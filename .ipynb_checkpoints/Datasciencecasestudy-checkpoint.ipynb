{
 "cells": [
  {
   "cell_type": "markdown",
   "id": "4ebcab5f-00e3-4c9e-a669-bfbdc2c3c411",
   "metadata": {},
   "source": [
    "## Question 1 : Dynamic Routing    \n",
    "#### Business Understanding    \n",
    "a. Company X intends to generate a dynamic route to help it optimize on its delivery route  \n",
    "b. In this context, `An optimum delivery route`  is one that will cost the least and ensures that the vehicle is optimally utilized   \n",
    "\n",
    "#### objectives \n",
    "- Cluster shops (customer_id) around fulfilment centers\n",
    "- Generate an output and the algorithm used to cluser shops in a map\n",
    "\n"
   ]
  },
  {
   "cell_type": "code",
   "execution_count": 1,
   "id": "d6a14813-e5ce-43e0-9056-006e86583f78",
   "metadata": {},
   "outputs": [],
   "source": [
    "#import necessary libraries \n",
    "import pandas as pd\n",
    "import numpy as np\n",
    "import folium \n",
    "from sklearn.cluster import KMeans\n",
    "from sklearn.preprocessing import StandardScaler\n",
    "import warnings\n",
    "warnings.filterwarnings(\"ignore\")"
   ]
  },
  {
   "cell_type": "code",
   "execution_count": 2,
   "id": "0bc7561c-2bec-4cf7-a780-89605c9cf6cf",
   "metadata": {},
   "outputs": [],
   "source": [
    "#load required data \n",
    "df_dataset = pd.read_csv(\"dataset.csv\")\n",
    "df_territories_centroids = pd.read_csv(\"territories_centroids.csv\")\n"
   ]
  },
  {
   "cell_type": "markdown",
   "id": "42a0a7b9-925d-4ff7-93c5-91328109bb6f",
   "metadata": {},
   "source": [
    "### Understanding df_dataset (Dataset.cvs)"
   ]
  },
  {
   "cell_type": "code",
   "execution_count": 3,
   "id": "ebc49450-2e25-4aae-b85b-fc4d190c595a",
   "metadata": {},
   "outputs": [
    {
     "data": {
      "text/html": [
       "<div>\n",
       "<style scoped>\n",
       "    .dataframe tbody tr th:only-of-type {\n",
       "        vertical-align: middle;\n",
       "    }\n",
       "\n",
       "    .dataframe tbody tr th {\n",
       "        vertical-align: top;\n",
       "    }\n",
       "\n",
       "    .dataframe thead th {\n",
       "        text-align: right;\n",
       "    }\n",
       "</style>\n",
       "<table border=\"1\" class=\"dataframe\">\n",
       "  <thead>\n",
       "    <tr style=\"text-align: right;\">\n",
       "      <th></th>\n",
       "      <th>order_id</th>\n",
       "      <th>customer_number</th>\n",
       "      <th>transaction_date</th>\n",
       "      <th>description</th>\n",
       "      <th>total_qty</th>\n",
       "      <th>net_total</th>\n",
       "      <th>loyalty_amount</th>\n",
       "      <th>loyalty_points</th>\n",
       "      <th>discount_amount</th>\n",
       "      <th>customer_group</th>\n",
       "      <th>territory</th>\n",
       "      <th>delivery_date</th>\n",
       "      <th>delivery_window_end_time</th>\n",
       "      <th>delivery_window_start_time</th>\n",
       "      <th>set_warehouse</th>\n",
       "      <th>duka_latitude</th>\n",
       "      <th>duka_longitude</th>\n",
       "    </tr>\n",
       "  </thead>\n",
       "  <tbody>\n",
       "    <tr>\n",
       "      <th>0</th>\n",
       "      <td>04aeddd4-d9b3-4cca-ab3b-072ca177a3e1</td>\n",
       "      <td>ID_172101</td>\n",
       "      <td>28/03/2022</td>\n",
       "      <td>Steam Energy Energy Drink 400ML CARTON (1.0 Item)</td>\n",
       "      <td>6</td>\n",
       "      <td>2231.57</td>\n",
       "      <td>0</td>\n",
       "      <td>0</td>\n",
       "      <td>66.38</td>\n",
       "      <td>Individual</td>\n",
       "      <td>Meru</td>\n",
       "      <td>29/03/2022</td>\n",
       "      <td>19:00:00</td>\n",
       "      <td>13:00:00</td>\n",
       "      <td>Meru Main - KDKE</td>\n",
       "      <td>0.036784</td>\n",
       "      <td>37.654155</td>\n",
       "    </tr>\n",
       "    <tr>\n",
       "      <th>1</th>\n",
       "      <td>04aeddd4-d9b3-4cca-ab3b-072ca177a3e1</td>\n",
       "      <td>ID_172101</td>\n",
       "      <td>28/03/2022</td>\n",
       "      <td>Sumo Candles 8PC CARTON (12.0 Outers)</td>\n",
       "      <td>6</td>\n",
       "      <td>2231.57</td>\n",
       "      <td>0</td>\n",
       "      <td>0</td>\n",
       "      <td>66.38</td>\n",
       "      <td>Individual</td>\n",
       "      <td>Meru</td>\n",
       "      <td>29/03/2022</td>\n",
       "      <td>19:00:00</td>\n",
       "      <td>13:00:00</td>\n",
       "      <td>Meru Main - KDKE</td>\n",
       "      <td>0.036784</td>\n",
       "      <td>37.654155</td>\n",
       "    </tr>\n",
       "    <tr>\n",
       "      <th>2</th>\n",
       "      <td>04aeddd4-d9b3-4cca-ab3b-072ca177a3e1</td>\n",
       "      <td>ID_172101</td>\n",
       "      <td>28/03/2022</td>\n",
       "      <td>Rhino Matches Kubwa 10 Boxes OUTER (1.0 Item)</td>\n",
       "      <td>6</td>\n",
       "      <td>2231.57</td>\n",
       "      <td>0</td>\n",
       "      <td>0</td>\n",
       "      <td>66.38</td>\n",
       "      <td>Individual</td>\n",
       "      <td>Meru</td>\n",
       "      <td>29/03/2022</td>\n",
       "      <td>19:00:00</td>\n",
       "      <td>13:00:00</td>\n",
       "      <td>Meru Main - KDKE</td>\n",
       "      <td>0.036784</td>\n",
       "      <td>37.654155</td>\n",
       "    </tr>\n",
       "    <tr>\n",
       "      <th>3</th>\n",
       "      <td>4da580db-3b2c-4dff-a181-9c1341e05ea5</td>\n",
       "      <td>ID_172101</td>\n",
       "      <td>12/03/2022</td>\n",
       "      <td>Dawn Tissue Rolls Smart 40PC BALE (1.0 Bale)</td>\n",
       "      <td>5</td>\n",
       "      <td>3637.91</td>\n",
       "      <td>0</td>\n",
       "      <td>0</td>\n",
       "      <td>38.53</td>\n",
       "      <td>Individual</td>\n",
       "      <td>Meru</td>\n",
       "      <td>14/03/2022</td>\n",
       "      <td>14:00:00</td>\n",
       "      <td>08:00:00</td>\n",
       "      <td>Meru Main - KDKE</td>\n",
       "      <td>0.036784</td>\n",
       "      <td>37.654155</td>\n",
       "    </tr>\n",
       "    <tr>\n",
       "      <th>4</th>\n",
       "      <td>4da580db-3b2c-4dff-a181-9c1341e05ea5</td>\n",
       "      <td>ID_172101</td>\n",
       "      <td>12/03/2022</td>\n",
       "      <td>Sawa Bath Soap 125G White DOZEN (1.0 Dzn)</td>\n",
       "      <td>5</td>\n",
       "      <td>3637.91</td>\n",
       "      <td>0</td>\n",
       "      <td>0</td>\n",
       "      <td>38.53</td>\n",
       "      <td>Individual</td>\n",
       "      <td>Meru</td>\n",
       "      <td>14/03/2022</td>\n",
       "      <td>14:00:00</td>\n",
       "      <td>08:00:00</td>\n",
       "      <td>Meru Main - KDKE</td>\n",
       "      <td>0.036784</td>\n",
       "      <td>37.654155</td>\n",
       "    </tr>\n",
       "  </tbody>\n",
       "</table>\n",
       "</div>"
      ],
      "text/plain": [
       "                               order_id customer_number transaction_date  \\\n",
       "0  04aeddd4-d9b3-4cca-ab3b-072ca177a3e1       ID_172101       28/03/2022   \n",
       "1  04aeddd4-d9b3-4cca-ab3b-072ca177a3e1       ID_172101       28/03/2022   \n",
       "2  04aeddd4-d9b3-4cca-ab3b-072ca177a3e1       ID_172101       28/03/2022   \n",
       "3  4da580db-3b2c-4dff-a181-9c1341e05ea5       ID_172101       12/03/2022   \n",
       "4  4da580db-3b2c-4dff-a181-9c1341e05ea5       ID_172101       12/03/2022   \n",
       "\n",
       "                                         description  total_qty  net_total  \\\n",
       "0  Steam Energy Energy Drink 400ML CARTON (1.0 Item)          6    2231.57   \n",
       "1              Sumo Candles 8PC CARTON (12.0 Outers)          6    2231.57   \n",
       "2      Rhino Matches Kubwa 10 Boxes OUTER (1.0 Item)          6    2231.57   \n",
       "3       Dawn Tissue Rolls Smart 40PC BALE (1.0 Bale)          5    3637.91   \n",
       "4          Sawa Bath Soap 125G White DOZEN (1.0 Dzn)          5    3637.91   \n",
       "\n",
       "   loyalty_amount  loyalty_points  discount_amount customer_group territory  \\\n",
       "0               0               0            66.38     Individual      Meru   \n",
       "1               0               0            66.38     Individual      Meru   \n",
       "2               0               0            66.38     Individual      Meru   \n",
       "3               0               0            38.53     Individual      Meru   \n",
       "4               0               0            38.53     Individual      Meru   \n",
       "\n",
       "  delivery_date delivery_window_end_time delivery_window_start_time  \\\n",
       "0    29/03/2022                 19:00:00                   13:00:00   \n",
       "1    29/03/2022                 19:00:00                   13:00:00   \n",
       "2    29/03/2022                 19:00:00                   13:00:00   \n",
       "3    14/03/2022                 14:00:00                   08:00:00   \n",
       "4    14/03/2022                 14:00:00                   08:00:00   \n",
       "\n",
       "      set_warehouse  duka_latitude  duka_longitude  \n",
       "0  Meru Main - KDKE       0.036784       37.654155  \n",
       "1  Meru Main - KDKE       0.036784       37.654155  \n",
       "2  Meru Main - KDKE       0.036784       37.654155  \n",
       "3  Meru Main - KDKE       0.036784       37.654155  \n",
       "4  Meru Main - KDKE       0.036784       37.654155  "
      ]
     },
     "execution_count": 3,
     "metadata": {},
     "output_type": "execute_result"
    }
   ],
   "source": [
    "#display first five rows of the first dataset \n",
    "df_dataset.head(5)"
   ]
  },
  {
   "cell_type": "code",
   "execution_count": 4,
   "id": "83b4f017-fc21-4b53-bf42-0e959f4bb496",
   "metadata": {},
   "outputs": [
    {
     "data": {
      "text/plain": [
       "Index(['order_id', 'customer_number', 'transaction_date', 'description',\n",
       "       'total_qty', 'net_total', 'loyalty_amount', 'loyalty_points',\n",
       "       'discount_amount', 'customer_group', 'territory', 'delivery_date',\n",
       "       'delivery_window_end_time', 'delivery_window_start_time',\n",
       "       'set_warehouse', 'duka_latitude', 'duka_longitude'],\n",
       "      dtype='object')"
      ]
     },
     "execution_count": 4,
     "metadata": {},
     "output_type": "execute_result"
    }
   ],
   "source": [
    "#review all columns in the dataset datasetcsv\n",
    "df_dataset.columns"
   ]
  },
  {
   "cell_type": "code",
   "execution_count": 5,
   "id": "6cf9627d-ec78-4a6e-9371-58c9c50fc838",
   "metadata": {},
   "outputs": [
    {
     "data": {
      "text/plain": [
       "(43718, 17)"
      ]
     },
     "execution_count": 5,
     "metadata": {},
     "output_type": "execute_result"
    }
   ],
   "source": [
    "#preview shape of the data\n",
    "df_dataset.shape"
   ]
  },
  {
   "cell_type": "code",
   "execution_count": 6,
   "id": "b328cf88-f379-46d7-b2d7-537043de4f8e",
   "metadata": {},
   "outputs": [
    {
     "name": "stdout",
     "output_type": "stream",
     "text": [
      "<class 'pandas.core.frame.DataFrame'>\n",
      "RangeIndex: 43718 entries, 0 to 43717\n",
      "Data columns (total 17 columns):\n",
      " #   Column                      Non-Null Count  Dtype  \n",
      "---  ------                      --------------  -----  \n",
      " 0   order_id                    43718 non-null  object \n",
      " 1   customer_number             43718 non-null  object \n",
      " 2   transaction_date            43718 non-null  object \n",
      " 3   description                 43718 non-null  object \n",
      " 4   total_qty                   43718 non-null  int64  \n",
      " 5   net_total                   43718 non-null  float64\n",
      " 6   loyalty_amount              43718 non-null  int64  \n",
      " 7   loyalty_points              43718 non-null  int64  \n",
      " 8   discount_amount             43718 non-null  float64\n",
      " 9   customer_group              43718 non-null  object \n",
      " 10  territory                   43718 non-null  object \n",
      " 11  delivery_date               43718 non-null  object \n",
      " 12  delivery_window_end_time    43718 non-null  object \n",
      " 13  delivery_window_start_time  43718 non-null  object \n",
      " 14  set_warehouse               43718 non-null  object \n",
      " 15  duka_latitude               43718 non-null  float64\n",
      " 16  duka_longitude              43718 non-null  float64\n",
      "dtypes: float64(4), int64(3), object(10)\n",
      "memory usage: 5.7+ MB\n"
     ]
    }
   ],
   "source": [
    "#General description\n",
    "df_dataset.info()"
   ]
  },
  {
   "cell_type": "code",
   "execution_count": 7,
   "id": "7194a5c1-c896-4a25-8308-b13fb9445725",
   "metadata": {},
   "outputs": [
    {
     "name": "stdout",
     "output_type": "stream",
     "text": [
      "Number of Duplicated observations: 10 \n",
      "\n",
      "Dataframe of Duplicated Observations \n",
      "\n"
     ]
    },
    {
     "data": {
      "text/html": [
       "<div>\n",
       "<style scoped>\n",
       "    .dataframe tbody tr th:only-of-type {\n",
       "        vertical-align: middle;\n",
       "    }\n",
       "\n",
       "    .dataframe tbody tr th {\n",
       "        vertical-align: top;\n",
       "    }\n",
       "\n",
       "    .dataframe thead th {\n",
       "        text-align: right;\n",
       "    }\n",
       "</style>\n",
       "<table border=\"1\" class=\"dataframe\">\n",
       "  <thead>\n",
       "    <tr style=\"text-align: right;\">\n",
       "      <th></th>\n",
       "      <th>order_id</th>\n",
       "      <th>customer_number</th>\n",
       "      <th>transaction_date</th>\n",
       "      <th>description</th>\n",
       "      <th>total_qty</th>\n",
       "      <th>net_total</th>\n",
       "      <th>loyalty_amount</th>\n",
       "      <th>loyalty_points</th>\n",
       "      <th>discount_amount</th>\n",
       "      <th>customer_group</th>\n",
       "      <th>territory</th>\n",
       "      <th>delivery_date</th>\n",
       "      <th>delivery_window_end_time</th>\n",
       "      <th>delivery_window_start_time</th>\n",
       "      <th>set_warehouse</th>\n",
       "      <th>duka_latitude</th>\n",
       "      <th>duka_longitude</th>\n",
       "    </tr>\n",
       "  </thead>\n",
       "  <tbody>\n",
       "    <tr>\n",
       "      <th>8667</th>\n",
       "      <td>8f0a8d99-e06c-4619-a4dc-539b323e15d3</td>\n",
       "      <td>ID_113558</td>\n",
       "      <td>03/03/2022</td>\n",
       "      <td>Sunveat Biscuits Wafers 15G Assorted CARTON (1...</td>\n",
       "      <td>10</td>\n",
       "      <td>5120.68</td>\n",
       "      <td>0</td>\n",
       "      <td>0</td>\n",
       "      <td>60.0</td>\n",
       "      <td>Individual</td>\n",
       "      <td>Juja</td>\n",
       "      <td>04/03/2022</td>\n",
       "      <td>14:00:00</td>\n",
       "      <td>08:00:00</td>\n",
       "      <td>Juja Main - KDKE</td>\n",
       "      <td>-1.055031</td>\n",
       "      <td>36.949011</td>\n",
       "    </tr>\n",
       "    <tr>\n",
       "      <th>10045</th>\n",
       "      <td>417a6bbf-026a-422f-b588-0d8e380267d1</td>\n",
       "      <td>ID_145802</td>\n",
       "      <td>25/02/2022</td>\n",
       "      <td>Local White Sugar 50KG BAG (1.0 Item)</td>\n",
       "      <td>2</td>\n",
       "      <td>9661.04</td>\n",
       "      <td>0</td>\n",
       "      <td>0</td>\n",
       "      <td>113.2</td>\n",
       "      <td>Individual</td>\n",
       "      <td>Athi River</td>\n",
       "      <td>26/02/2022</td>\n",
       "      <td>14:00:00</td>\n",
       "      <td>08:00:00</td>\n",
       "      <td>Athi River Main - KDKE</td>\n",
       "      <td>-1.480278</td>\n",
       "      <td>36.965903</td>\n",
       "    </tr>\n",
       "    <tr>\n",
       "      <th>13036</th>\n",
       "      <td>4f16eb5c-396e-4570-9111-2e82b28f38d4</td>\n",
       "      <td>ID_105214</td>\n",
       "      <td>07/03/2022</td>\n",
       "      <td>Steam Energy Energy Drink 400ML CARTON (1.0 Item)</td>\n",
       "      <td>8</td>\n",
       "      <td>3980.48</td>\n",
       "      <td>0</td>\n",
       "      <td>0</td>\n",
       "      <td>43.6</td>\n",
       "      <td>Individual</td>\n",
       "      <td>Nakuru</td>\n",
       "      <td>07/03/2022</td>\n",
       "      <td>19:00:00</td>\n",
       "      <td>13:00:00</td>\n",
       "      <td>Nakuru Main - KDKE</td>\n",
       "      <td>-0.286954</td>\n",
       "      <td>36.074642</td>\n",
       "    </tr>\n",
       "    <tr>\n",
       "      <th>13038</th>\n",
       "      <td>4f16eb5c-396e-4570-9111-2e82b28f38d4</td>\n",
       "      <td>ID_105214</td>\n",
       "      <td>07/03/2022</td>\n",
       "      <td>Softcare Sanitary Pads PURPLE 12PC CARTON (2.0...</td>\n",
       "      <td>8</td>\n",
       "      <td>3980.48</td>\n",
       "      <td>0</td>\n",
       "      <td>0</td>\n",
       "      <td>43.6</td>\n",
       "      <td>Individual</td>\n",
       "      <td>Nakuru</td>\n",
       "      <td>07/03/2022</td>\n",
       "      <td>19:00:00</td>\n",
       "      <td>13:00:00</td>\n",
       "      <td>Nakuru Main - KDKE</td>\n",
       "      <td>-0.286954</td>\n",
       "      <td>36.074642</td>\n",
       "    </tr>\n",
       "    <tr>\n",
       "      <th>23133</th>\n",
       "      <td>63620ae5-c9ad-413e-a9b9-126ba8feeb91</td>\n",
       "      <td>ID_047131</td>\n",
       "      <td>15/02/2022</td>\n",
       "      <td>Mt. Kenya Milk ESL 500ML CARTON (1.0 Item)</td>\n",
       "      <td>38</td>\n",
       "      <td>24321.22</td>\n",
       "      <td>0</td>\n",
       "      <td>0</td>\n",
       "      <td>263.6</td>\n",
       "      <td>Individual</td>\n",
       "      <td>Meru</td>\n",
       "      <td>16/02/2022</td>\n",
       "      <td>19:00:00</td>\n",
       "      <td>13:00:00</td>\n",
       "      <td>Meru Main - KDKE</td>\n",
       "      <td>0.132581</td>\n",
       "      <td>37.539296</td>\n",
       "    </tr>\n",
       "    <tr>\n",
       "      <th>23135</th>\n",
       "      <td>63620ae5-c9ad-413e-a9b9-126ba8feeb91</td>\n",
       "      <td>ID_047131</td>\n",
       "      <td>15/02/2022</td>\n",
       "      <td>Mt. Kenya Milk ESL 200ML CARTON (1.0 Item)</td>\n",
       "      <td>38</td>\n",
       "      <td>24321.22</td>\n",
       "      <td>0</td>\n",
       "      <td>0</td>\n",
       "      <td>263.6</td>\n",
       "      <td>Individual</td>\n",
       "      <td>Meru</td>\n",
       "      <td>16/02/2022</td>\n",
       "      <td>19:00:00</td>\n",
       "      <td>13:00:00</td>\n",
       "      <td>Meru Main - KDKE</td>\n",
       "      <td>0.132581</td>\n",
       "      <td>37.539296</td>\n",
       "    </tr>\n",
       "    <tr>\n",
       "      <th>23137</th>\n",
       "      <td>63620ae5-c9ad-413e-a9b9-126ba8feeb91</td>\n",
       "      <td>ID_047131</td>\n",
       "      <td>15/02/2022</td>\n",
       "      <td>Zenta Bar Soap Cream 1Kg CARTON (10.0 PC)</td>\n",
       "      <td>38</td>\n",
       "      <td>24321.22</td>\n",
       "      <td>0</td>\n",
       "      <td>0</td>\n",
       "      <td>263.6</td>\n",
       "      <td>Individual</td>\n",
       "      <td>Meru</td>\n",
       "      <td>16/02/2022</td>\n",
       "      <td>19:00:00</td>\n",
       "      <td>13:00:00</td>\n",
       "      <td>Meru Main - KDKE</td>\n",
       "      <td>0.132581</td>\n",
       "      <td>37.539296</td>\n",
       "    </tr>\n",
       "    <tr>\n",
       "      <th>26735</th>\n",
       "      <td>8cb0c10a-b778-4a80-8a4c-87406bfc0cdf</td>\n",
       "      <td>ID_174183</td>\n",
       "      <td>02/03/2022</td>\n",
       "      <td>Ajab Wheat Flour 2KG BALE (12.0 PC)</td>\n",
       "      <td>4</td>\n",
       "      <td>6286.50</td>\n",
       "      <td>0</td>\n",
       "      <td>0</td>\n",
       "      <td>63.5</td>\n",
       "      <td>Individual</td>\n",
       "      <td>Athi River</td>\n",
       "      <td>03/03/2022</td>\n",
       "      <td>14:00:00</td>\n",
       "      <td>08:00:00</td>\n",
       "      <td>Athi River Main - KDKE</td>\n",
       "      <td>-1.349662</td>\n",
       "      <td>36.977445</td>\n",
       "    </tr>\n",
       "    <tr>\n",
       "      <th>26737</th>\n",
       "      <td>8cb0c10a-b778-4a80-8a4c-87406bfc0cdf</td>\n",
       "      <td>ID_174183</td>\n",
       "      <td>02/03/2022</td>\n",
       "      <td>Pembe Maize Flour 2KG BALE (12.0 PC)</td>\n",
       "      <td>4</td>\n",
       "      <td>6286.50</td>\n",
       "      <td>0</td>\n",
       "      <td>0</td>\n",
       "      <td>63.5</td>\n",
       "      <td>Individual</td>\n",
       "      <td>Athi River</td>\n",
       "      <td>03/03/2022</td>\n",
       "      <td>14:00:00</td>\n",
       "      <td>08:00:00</td>\n",
       "      <td>Athi River Main - KDKE</td>\n",
       "      <td>-1.349662</td>\n",
       "      <td>36.977445</td>\n",
       "    </tr>\n",
       "    <tr>\n",
       "      <th>30603</th>\n",
       "      <td>790e2efd-e39b-407e-a8bb-97bb708dbb92</td>\n",
       "      <td>ID_041606</td>\n",
       "      <td>24/02/2022</td>\n",
       "      <td>Local White Sugar 50KG BAG (1.0 Item)</td>\n",
       "      <td>4</td>\n",
       "      <td>19322.06</td>\n",
       "      <td>0</td>\n",
       "      <td>0</td>\n",
       "      <td>226.4</td>\n",
       "      <td>Individual</td>\n",
       "      <td>Ruiru</td>\n",
       "      <td>25/02/2022</td>\n",
       "      <td>14:00:00</td>\n",
       "      <td>08:00:00</td>\n",
       "      <td>Ruiru Main - KDKE</td>\n",
       "      <td>-1.129606</td>\n",
       "      <td>36.968379</td>\n",
       "    </tr>\n",
       "  </tbody>\n",
       "</table>\n",
       "</div>"
      ],
      "text/plain": [
       "                                   order_id customer_number transaction_date  \\\n",
       "8667   8f0a8d99-e06c-4619-a4dc-539b323e15d3       ID_113558       03/03/2022   \n",
       "10045  417a6bbf-026a-422f-b588-0d8e380267d1       ID_145802       25/02/2022   \n",
       "13036  4f16eb5c-396e-4570-9111-2e82b28f38d4       ID_105214       07/03/2022   \n",
       "13038  4f16eb5c-396e-4570-9111-2e82b28f38d4       ID_105214       07/03/2022   \n",
       "23133  63620ae5-c9ad-413e-a9b9-126ba8feeb91       ID_047131       15/02/2022   \n",
       "23135  63620ae5-c9ad-413e-a9b9-126ba8feeb91       ID_047131       15/02/2022   \n",
       "23137  63620ae5-c9ad-413e-a9b9-126ba8feeb91       ID_047131       15/02/2022   \n",
       "26735  8cb0c10a-b778-4a80-8a4c-87406bfc0cdf       ID_174183       02/03/2022   \n",
       "26737  8cb0c10a-b778-4a80-8a4c-87406bfc0cdf       ID_174183       02/03/2022   \n",
       "30603  790e2efd-e39b-407e-a8bb-97bb708dbb92       ID_041606       24/02/2022   \n",
       "\n",
       "                                             description  total_qty  \\\n",
       "8667   Sunveat Biscuits Wafers 15G Assorted CARTON (1...         10   \n",
       "10045              Local White Sugar 50KG BAG (1.0 Item)          2   \n",
       "13036  Steam Energy Energy Drink 400ML CARTON (1.0 Item)          8   \n",
       "13038  Softcare Sanitary Pads PURPLE 12PC CARTON (2.0...          8   \n",
       "23133         Mt. Kenya Milk ESL 500ML CARTON (1.0 Item)         38   \n",
       "23135         Mt. Kenya Milk ESL 200ML CARTON (1.0 Item)         38   \n",
       "23137          Zenta Bar Soap Cream 1Kg CARTON (10.0 PC)         38   \n",
       "26735                Ajab Wheat Flour 2KG BALE (12.0 PC)          4   \n",
       "26737               Pembe Maize Flour 2KG BALE (12.0 PC)          4   \n",
       "30603              Local White Sugar 50KG BAG (1.0 Item)          4   \n",
       "\n",
       "       net_total  loyalty_amount  loyalty_points  discount_amount  \\\n",
       "8667     5120.68               0               0             60.0   \n",
       "10045    9661.04               0               0            113.2   \n",
       "13036    3980.48               0               0             43.6   \n",
       "13038    3980.48               0               0             43.6   \n",
       "23133   24321.22               0               0            263.6   \n",
       "23135   24321.22               0               0            263.6   \n",
       "23137   24321.22               0               0            263.6   \n",
       "26735    6286.50               0               0             63.5   \n",
       "26737    6286.50               0               0             63.5   \n",
       "30603   19322.06               0               0            226.4   \n",
       "\n",
       "      customer_group   territory delivery_date delivery_window_end_time  \\\n",
       "8667      Individual        Juja    04/03/2022                 14:00:00   \n",
       "10045     Individual  Athi River    26/02/2022                 14:00:00   \n",
       "13036     Individual      Nakuru    07/03/2022                 19:00:00   \n",
       "13038     Individual      Nakuru    07/03/2022                 19:00:00   \n",
       "23133     Individual        Meru    16/02/2022                 19:00:00   \n",
       "23135     Individual        Meru    16/02/2022                 19:00:00   \n",
       "23137     Individual        Meru    16/02/2022                 19:00:00   \n",
       "26735     Individual  Athi River    03/03/2022                 14:00:00   \n",
       "26737     Individual  Athi River    03/03/2022                 14:00:00   \n",
       "30603     Individual       Ruiru    25/02/2022                 14:00:00   \n",
       "\n",
       "      delivery_window_start_time           set_warehouse  duka_latitude  \\\n",
       "8667                    08:00:00        Juja Main - KDKE      -1.055031   \n",
       "10045                   08:00:00  Athi River Main - KDKE      -1.480278   \n",
       "13036                   13:00:00      Nakuru Main - KDKE      -0.286954   \n",
       "13038                   13:00:00      Nakuru Main - KDKE      -0.286954   \n",
       "23133                   13:00:00        Meru Main - KDKE       0.132581   \n",
       "23135                   13:00:00        Meru Main - KDKE       0.132581   \n",
       "23137                   13:00:00        Meru Main - KDKE       0.132581   \n",
       "26735                   08:00:00  Athi River Main - KDKE      -1.349662   \n",
       "26737                   08:00:00  Athi River Main - KDKE      -1.349662   \n",
       "30603                   08:00:00       Ruiru Main - KDKE      -1.129606   \n",
       "\n",
       "       duka_longitude  \n",
       "8667        36.949011  \n",
       "10045       36.965903  \n",
       "13036       36.074642  \n",
       "13038       36.074642  \n",
       "23133       37.539296  \n",
       "23135       37.539296  \n",
       "23137       37.539296  \n",
       "26735       36.977445  \n",
       "26737       36.977445  \n",
       "30603       36.968379  "
      ]
     },
     "execution_count": 7,
     "metadata": {},
     "output_type": "execute_result"
    }
   ],
   "source": [
    "#check for duplicates\n",
    "print(\"Number of Duplicated observations:\", df_dataset.duplicated().sum(),\"\\n\")\n",
    "\n",
    "print (\"Dataframe of Duplicated Observations \\n\")\n",
    "df_dataset[df_dataset.duplicated()]\n"
   ]
  },
  {
   "cell_type": "code",
   "execution_count": 8,
   "id": "de069770-c03b-451c-8a0b-9e88a7e9721e",
   "metadata": {},
   "outputs": [
    {
     "name": "stdout",
     "output_type": "stream",
     "text": [
      "0\n"
     ]
    }
   ],
   "source": [
    "#drop duplicates\n",
    "df_dataset = df_dataset.drop_duplicates(keep = \"first\")\n",
    "\n",
    "#reveiew duplicates\n",
    "print(df_dataset.duplicated().sum())"
   ]
  },
  {
   "cell_type": "code",
   "execution_count": 9,
   "id": "fe5033fa-bdaf-46da-8f2a-b00c87662e4f",
   "metadata": {},
   "outputs": [
    {
     "data": {
      "text/html": [
       "<div>\n",
       "<style scoped>\n",
       "    .dataframe tbody tr th:only-of-type {\n",
       "        vertical-align: middle;\n",
       "    }\n",
       "\n",
       "    .dataframe tbody tr th {\n",
       "        vertical-align: top;\n",
       "    }\n",
       "\n",
       "    .dataframe thead th {\n",
       "        text-align: right;\n",
       "    }\n",
       "</style>\n",
       "<table border=\"1\" class=\"dataframe\">\n",
       "  <thead>\n",
       "    <tr style=\"text-align: right;\">\n",
       "      <th></th>\n",
       "      <th>customer_number</th>\n",
       "      <th>total_qty</th>\n",
       "      <th>net_total</th>\n",
       "      <th>loyalty_amount</th>\n",
       "      <th>loyalty_points</th>\n",
       "      <th>discount_amount</th>\n",
       "      <th>territory</th>\n",
       "      <th>delivery_window_end_time</th>\n",
       "      <th>delivery_window_start_time</th>\n",
       "      <th>set_warehouse</th>\n",
       "      <th>duka_latitude</th>\n",
       "      <th>duka_longitude</th>\n",
       "    </tr>\n",
       "  </thead>\n",
       "  <tbody>\n",
       "    <tr>\n",
       "      <th>0</th>\n",
       "      <td>ID_172101</td>\n",
       "      <td>6</td>\n",
       "      <td>2231.57</td>\n",
       "      <td>0</td>\n",
       "      <td>0</td>\n",
       "      <td>66.38</td>\n",
       "      <td>Meru</td>\n",
       "      <td>19:00:00</td>\n",
       "      <td>13:00:00</td>\n",
       "      <td>Meru Main - KDKE</td>\n",
       "      <td>0.036784</td>\n",
       "      <td>37.654155</td>\n",
       "    </tr>\n",
       "    <tr>\n",
       "      <th>1</th>\n",
       "      <td>ID_172101</td>\n",
       "      <td>6</td>\n",
       "      <td>2231.57</td>\n",
       "      <td>0</td>\n",
       "      <td>0</td>\n",
       "      <td>66.38</td>\n",
       "      <td>Meru</td>\n",
       "      <td>19:00:00</td>\n",
       "      <td>13:00:00</td>\n",
       "      <td>Meru Main - KDKE</td>\n",
       "      <td>0.036784</td>\n",
       "      <td>37.654155</td>\n",
       "    </tr>\n",
       "  </tbody>\n",
       "</table>\n",
       "</div>"
      ],
      "text/plain": [
       "  customer_number  total_qty  net_total  loyalty_amount  loyalty_points  \\\n",
       "0       ID_172101          6    2231.57               0               0   \n",
       "1       ID_172101          6    2231.57               0               0   \n",
       "\n",
       "   discount_amount territory delivery_window_end_time  \\\n",
       "0            66.38      Meru                 19:00:00   \n",
       "1            66.38      Meru                 19:00:00   \n",
       "\n",
       "  delivery_window_start_time     set_warehouse  duka_latitude  duka_longitude  \n",
       "0                   13:00:00  Meru Main - KDKE       0.036784       37.654155  \n",
       "1                   13:00:00  Meru Main - KDKE       0.036784       37.654155  "
      ]
     },
     "execution_count": 9,
     "metadata": {},
     "output_type": "execute_result"
    }
   ],
   "source": [
    "#drop columns: columns that will not be used \n",
    "cols = ['order_id', 'transaction_date', 'customer_group', 'description', 'delivery_date']\n",
    "df_dataset.drop(columns = cols, inplace = True)\n",
    "\n",
    "#Preview new columns\n",
    "df_dataset.head(2)"
   ]
  },
  {
   "cell_type": "code",
   "execution_count": 10,
   "id": "47ccbdb9-e40a-44cf-8875-0cfa11f854e6",
   "metadata": {},
   "outputs": [
    {
     "data": {
      "text/plain": [
       "loyalty_amount  loyalty_points\n",
       "0               0                 43708\n",
       "Name: count, dtype: int64"
      ]
     },
     "execution_count": 10,
     "metadata": {},
     "output_type": "execute_result"
    }
   ],
   "source": [
    "#Unique values in loyalty columns \n",
    "df_dataset[[\"loyalty_amount\", \"loyalty_points\"]].value_counts()"
   ]
  },
  {
   "cell_type": "code",
   "execution_count": 11,
   "id": "761792f7-de06-4037-ad48-b982ae637aa5",
   "metadata": {},
   "outputs": [],
   "source": [
    "#drop loyalty columns:zero values \n",
    "# These columns have zero values hence not significant in this case, they can however be used to infer and recommend\n",
    "cols = [\"loyalty_amount\", \"loyalty_points\"]\n",
    "df_dataset.drop(columns = cols, inplace = True)"
   ]
  },
  {
   "cell_type": "code",
   "execution_count": 12,
   "id": "9a33ac50-3229-4ef3-801a-e80512c38c15",
   "metadata": {},
   "outputs": [
    {
     "data": {
      "text/plain": [
       "total_qty  net_total  territory   discount_amount  set_warehouse         \n",
       "1          2405.70    Athi River  24.30            Athi River Main - KDKE    40\n",
       "           4580.82    Kawangware  136.25           Kawangware Main - KDKE    36\n",
       "36         26191.64   Meru        286.26           Meru Main - KDKE          35\n",
       "1          4580.82    Athi River  136.25           Athi River Main - KDKE    34\n",
       "                      Juja        136.25           Juja Main - KDKE          34\n",
       "                                                                             ..\n",
       "8          37655.17   Voi         1120.00          Voi Main - KDKE            1\n",
       "           38186.38   Kawangware  1135.80          Kawangware Main - KDKE     1\n",
       "           38575.86   Karatina    452.00           Karatina Main - KDKE       1\n",
       "           40214.48   Kawangware  471.20           Kawangware Main - KDKE     1\n",
       "1          181.03     Meru        0.00             Meru Main - KDKE           1\n",
       "Name: count, Length: 14743, dtype: int64"
      ]
     },
     "execution_count": 12,
     "metadata": {},
     "output_type": "execute_result"
    }
   ],
   "source": [
    "#unique values in preferred columns \n",
    "#Displayb help to understand the variables and their contents\n",
    "df_dataset[[\"total_qty\", \"net_total\", \"territory\",\"discount_amount\",\"set_warehouse\" \n",
    "           ]].value_counts()"
   ]
  },
  {
   "cell_type": "code",
   "execution_count": 13,
   "id": "ff2ba9d2-03ea-43a5-ac67-09ea59d254b7",
   "metadata": {},
   "outputs": [],
   "source": [
    "#drop set_warehouse, contains similar information to territory variable\n",
    "cols = [\"set_warehouse\"]\n",
    "df_dataset.drop(columns = cols,inplace = True)\n"
   ]
  },
  {
   "cell_type": "code",
   "execution_count": 14,
   "id": "24c28c90-1a72-4814-b795-e5f389927395",
   "metadata": {},
   "outputs": [
    {
     "data": {
      "text/html": [
       "<div>\n",
       "<style scoped>\n",
       "    .dataframe tbody tr th:only-of-type {\n",
       "        vertical-align: middle;\n",
       "    }\n",
       "\n",
       "    .dataframe tbody tr th {\n",
       "        vertical-align: top;\n",
       "    }\n",
       "\n",
       "    .dataframe thead th {\n",
       "        text-align: right;\n",
       "    }\n",
       "</style>\n",
       "<table border=\"1\" class=\"dataframe\">\n",
       "  <thead>\n",
       "    <tr style=\"text-align: right;\">\n",
       "      <th></th>\n",
       "      <th>customer_number</th>\n",
       "      <th>total_qty</th>\n",
       "      <th>net_total</th>\n",
       "      <th>discount_amount</th>\n",
       "      <th>territory</th>\n",
       "      <th>duka_latitude</th>\n",
       "      <th>duka_longitude</th>\n",
       "      <th>delivery_time</th>\n",
       "    </tr>\n",
       "  </thead>\n",
       "  <tbody>\n",
       "    <tr>\n",
       "      <th>0</th>\n",
       "      <td>ID_172101</td>\n",
       "      <td>6</td>\n",
       "      <td>2231.57</td>\n",
       "      <td>66.38</td>\n",
       "      <td>Meru</td>\n",
       "      <td>0.036784</td>\n",
       "      <td>37.654155</td>\n",
       "      <td>0 days 06:00:00</td>\n",
       "    </tr>\n",
       "    <tr>\n",
       "      <th>1</th>\n",
       "      <td>ID_172101</td>\n",
       "      <td>6</td>\n",
       "      <td>2231.57</td>\n",
       "      <td>66.38</td>\n",
       "      <td>Meru</td>\n",
       "      <td>0.036784</td>\n",
       "      <td>37.654155</td>\n",
       "      <td>0 days 06:00:00</td>\n",
       "    </tr>\n",
       "  </tbody>\n",
       "</table>\n",
       "</div>"
      ],
      "text/plain": [
       "  customer_number  total_qty  net_total  discount_amount territory  \\\n",
       "0       ID_172101          6    2231.57            66.38      Meru   \n",
       "1       ID_172101          6    2231.57            66.38      Meru   \n",
       "\n",
       "   duka_latitude  duka_longitude   delivery_time  \n",
       "0       0.036784       37.654155 0 days 06:00:00  \n",
       "1       0.036784       37.654155 0 days 06:00:00  "
      ]
     },
     "execution_count": 14,
     "metadata": {},
     "output_type": "execute_result"
    }
   ],
   "source": [
    "#evalute delivery time or periods\n",
    "df_dataset[\"delivery_time\"]  = pd.to_datetime(df_dataset[\"delivery_window_end_time\"], format = '%H:%M:%S', errors = \"coerce\") - pd.to_datetime(df_dataset[\"delivery_window_start_time\"],format = '%H:%M:%S', errors = \"coerce\") \n",
    "\n",
    "#drop delivery window start and end time\n",
    "cols = [\"delivery_window_end_time\", \"delivery_window_start_time\"]\n",
    "df_dataset.drop(columns = cols, inplace =True)\n",
    "\n",
    "#preview Dataset: helps to maintain flow of thought\n",
    "df_dataset.head(2)"
   ]
  },
  {
   "cell_type": "markdown",
   "id": "f885c96f-58ae-4e80-8afe-23c5e42cbd3a",
   "metadata": {},
   "source": [
    "### Understanding df_territories_centroids (territories_centroids.csv)"
   ]
  },
  {
   "cell_type": "code",
   "execution_count": 15,
   "id": "54a78aeb-9404-4b93-92e0-e57728c44030",
   "metadata": {},
   "outputs": [
    {
     "data": {
      "text/html": [
       "<div>\n",
       "<style scoped>\n",
       "    .dataframe tbody tr th:only-of-type {\n",
       "        vertical-align: middle;\n",
       "    }\n",
       "\n",
       "    .dataframe tbody tr th {\n",
       "        vertical-align: top;\n",
       "    }\n",
       "\n",
       "    .dataframe thead th {\n",
       "        text-align: right;\n",
       "    }\n",
       "</style>\n",
       "<table border=\"1\" class=\"dataframe\">\n",
       "  <thead>\n",
       "    <tr style=\"text-align: right;\">\n",
       "      <th></th>\n",
       "      <th>id</th>\n",
       "      <th>territory</th>\n",
       "      <th>warehouse_latitude</th>\n",
       "      <th>warehouse_longitude</th>\n",
       "    </tr>\n",
       "  </thead>\n",
       "  <tbody>\n",
       "    <tr>\n",
       "      <th>0</th>\n",
       "      <td>1</td>\n",
       "      <td>Athi River</td>\n",
       "      <td>-1.427556</td>\n",
       "      <td>36.970444</td>\n",
       "    </tr>\n",
       "    <tr>\n",
       "      <th>1</th>\n",
       "      <td>2</td>\n",
       "      <td>Eastlands</td>\n",
       "      <td>-1.324139</td>\n",
       "      <td>36.867000</td>\n",
       "    </tr>\n",
       "    <tr>\n",
       "      <th>2</th>\n",
       "      <td>3</td>\n",
       "      <td>Eldoret</td>\n",
       "      <td>0.520185</td>\n",
       "      <td>35.256327</td>\n",
       "    </tr>\n",
       "    <tr>\n",
       "      <th>3</th>\n",
       "      <td>4</td>\n",
       "      <td>Embu</td>\n",
       "      <td>-0.542030</td>\n",
       "      <td>37.454250</td>\n",
       "    </tr>\n",
       "    <tr>\n",
       "      <th>4</th>\n",
       "      <td>5</td>\n",
       "      <td>Juja</td>\n",
       "      <td>-1.108111</td>\n",
       "      <td>37.013861</td>\n",
       "    </tr>\n",
       "  </tbody>\n",
       "</table>\n",
       "</div>"
      ],
      "text/plain": [
       "   id   territory  warehouse_latitude  warehouse_longitude\n",
       "0   1  Athi River           -1.427556            36.970444\n",
       "1   2   Eastlands           -1.324139            36.867000\n",
       "2   3     Eldoret            0.520185            35.256327\n",
       "3   4        Embu           -0.542030            37.454250\n",
       "4   5        Juja           -1.108111            37.013861"
      ]
     },
     "execution_count": 15,
     "metadata": {},
     "output_type": "execute_result"
    }
   ],
   "source": [
    "#Preview first 5 rows dataset: territories_centroids \n",
    "df_territories_centroids.head(5)"
   ]
  },
  {
   "cell_type": "code",
   "execution_count": 16,
   "id": "f8773b55-cb18-4cd0-8988-13089c00257d",
   "metadata": {},
   "outputs": [
    {
     "data": {
      "text/plain": [
       "(19, 4)"
      ]
     },
     "execution_count": 16,
     "metadata": {},
     "output_type": "execute_result"
    }
   ],
   "source": [
    "#review shape of the dataset\n",
    "df_territories_centroids.shape"
   ]
  },
  {
   "cell_type": "code",
   "execution_count": 17,
   "id": "2daab48a-60b1-44f5-8c3e-ee4c4d72fa40",
   "metadata": {},
   "outputs": [
    {
     "data": {
      "text/plain": [
       "Index(['id', 'territory', 'warehouse_latitude', 'warehouse_longitude'], dtype='object')"
      ]
     },
     "execution_count": 17,
     "metadata": {},
     "output_type": "execute_result"
    }
   ],
   "source": [
    "#review all columns in the dataset\n",
    "df_territories_centroids.columns"
   ]
  },
  {
   "cell_type": "code",
   "execution_count": 18,
   "id": "1cddf81c-fb7a-4aa4-a225-c4e960008f84",
   "metadata": {},
   "outputs": [
    {
     "data": {
      "text/plain": [
       "Index(['territory', 'warehouse_latitude', 'warehouse_longitude'], dtype='object')"
      ]
     },
     "execution_count": 18,
     "metadata": {},
     "output_type": "execute_result"
    }
   ],
   "source": [
    "#drop insignificant columns:id column is a unique column\n",
    "df_territories_centroids.drop(columns = \"id\", inplace = True)\n",
    "\n",
    "#Preview new columns\n",
    "df_territories_centroids.columns"
   ]
  },
  {
   "cell_type": "code",
   "execution_count": 19,
   "id": "6d5b581d-3c85-49ee-a26d-9eebdca08394",
   "metadata": {},
   "outputs": [
    {
     "data": {
      "text/plain": [
       "array(['Athi River', 'Eastlands', 'Eldoret', 'Embu', 'Juja', 'Karatina',\n",
       "       'Kawangware', 'Kiambu', 'Kisii', 'Kisumu1', 'Majengo Mombasa',\n",
       "       'Meru', 'Mtwapa Mombasa', 'Nakuru', 'Ongata Rongai', 'Ruai',\n",
       "       'Ruiru', 'Thika Rd', 'Voi'], dtype=object)"
      ]
     },
     "execution_count": 19,
     "metadata": {},
     "output_type": "execute_result"
    }
   ],
   "source": [
    "#unique values of territory\n",
    "df_territories_centroids[\"territory\"].unique()"
   ]
  },
  {
   "cell_type": "code",
   "execution_count": 20,
   "id": "b4cdf08b-efe8-4eba-b034-e40c6459e186",
   "metadata": {},
   "outputs": [
    {
     "name": "stdout",
     "output_type": "stream",
     "text": [
      "Number of Duplicated observations: 0 \n",
      "\n"
     ]
    },
    {
     "data": {
      "text/html": [
       "<div>\n",
       "<style scoped>\n",
       "    .dataframe tbody tr th:only-of-type {\n",
       "        vertical-align: middle;\n",
       "    }\n",
       "\n",
       "    .dataframe tbody tr th {\n",
       "        vertical-align: top;\n",
       "    }\n",
       "\n",
       "    .dataframe thead th {\n",
       "        text-align: right;\n",
       "    }\n",
       "</style>\n",
       "<table border=\"1\" class=\"dataframe\">\n",
       "  <thead>\n",
       "    <tr style=\"text-align: right;\">\n",
       "      <th></th>\n",
       "      <th>territory</th>\n",
       "      <th>warehouse_latitude</th>\n",
       "      <th>warehouse_longitude</th>\n",
       "    </tr>\n",
       "  </thead>\n",
       "  <tbody>\n",
       "  </tbody>\n",
       "</table>\n",
       "</div>"
      ],
      "text/plain": [
       "Empty DataFrame\n",
       "Columns: [territory, warehouse_latitude, warehouse_longitude]\n",
       "Index: []"
      ]
     },
     "execution_count": 20,
     "metadata": {},
     "output_type": "execute_result"
    }
   ],
   "source": [
    "#check for duplicates\n",
    "print(\"Number of Duplicated observations:\", df_territories_centroids.duplicated().sum(),\"\\n\")\n",
    "\n",
    "df_territories_centroids[df_territories_centroids.duplicated()]"
   ]
  },
  {
   "cell_type": "code",
   "execution_count": 21,
   "id": "d69677c6-c1f5-4724-baa4-5bf0e5689f13",
   "metadata": {},
   "outputs": [
    {
     "name": "stdout",
     "output_type": "stream",
     "text": [
      "Shape of df_dataset: (43708, 8) \n",
      "Shaped of df_territories_centroids: (19, 3) \n",
      "Shape of merged data: (43708, 10)\n"
     ]
    },
    {
     "data": {
      "text/html": [
       "<div>\n",
       "<style scoped>\n",
       "    .dataframe tbody tr th:only-of-type {\n",
       "        vertical-align: middle;\n",
       "    }\n",
       "\n",
       "    .dataframe tbody tr th {\n",
       "        vertical-align: top;\n",
       "    }\n",
       "\n",
       "    .dataframe thead th {\n",
       "        text-align: right;\n",
       "    }\n",
       "</style>\n",
       "<table border=\"1\" class=\"dataframe\">\n",
       "  <thead>\n",
       "    <tr style=\"text-align: right;\">\n",
       "      <th></th>\n",
       "      <th>customer_number</th>\n",
       "      <th>total_qty</th>\n",
       "      <th>net_total</th>\n",
       "      <th>discount_amount</th>\n",
       "      <th>territory</th>\n",
       "      <th>duka_latitude</th>\n",
       "      <th>duka_longitude</th>\n",
       "      <th>delivery_time</th>\n",
       "      <th>warehouse_latitude</th>\n",
       "      <th>warehouse_longitude</th>\n",
       "    </tr>\n",
       "  </thead>\n",
       "  <tbody>\n",
       "    <tr>\n",
       "      <th>0</th>\n",
       "      <td>ID_172101</td>\n",
       "      <td>6</td>\n",
       "      <td>2231.57</td>\n",
       "      <td>66.38</td>\n",
       "      <td>Meru</td>\n",
       "      <td>0.036784</td>\n",
       "      <td>37.654155</td>\n",
       "      <td>0 days 06:00:00</td>\n",
       "      <td>-1.277078</td>\n",
       "      <td>36.814669</td>\n",
       "    </tr>\n",
       "    <tr>\n",
       "      <th>1</th>\n",
       "      <td>ID_172101</td>\n",
       "      <td>6</td>\n",
       "      <td>2231.57</td>\n",
       "      <td>66.38</td>\n",
       "      <td>Meru</td>\n",
       "      <td>0.036784</td>\n",
       "      <td>37.654155</td>\n",
       "      <td>0 days 06:00:00</td>\n",
       "      <td>-1.277078</td>\n",
       "      <td>36.814669</td>\n",
       "    </tr>\n",
       "    <tr>\n",
       "      <th>2</th>\n",
       "      <td>ID_172101</td>\n",
       "      <td>6</td>\n",
       "      <td>2231.57</td>\n",
       "      <td>66.38</td>\n",
       "      <td>Meru</td>\n",
       "      <td>0.036784</td>\n",
       "      <td>37.654155</td>\n",
       "      <td>0 days 06:00:00</td>\n",
       "      <td>-1.277078</td>\n",
       "      <td>36.814669</td>\n",
       "    </tr>\n",
       "    <tr>\n",
       "      <th>3</th>\n",
       "      <td>ID_172101</td>\n",
       "      <td>5</td>\n",
       "      <td>3637.91</td>\n",
       "      <td>38.53</td>\n",
       "      <td>Meru</td>\n",
       "      <td>0.036784</td>\n",
       "      <td>37.654155</td>\n",
       "      <td>0 days 06:00:00</td>\n",
       "      <td>-1.277078</td>\n",
       "      <td>36.814669</td>\n",
       "    </tr>\n",
       "    <tr>\n",
       "      <th>4</th>\n",
       "      <td>ID_172101</td>\n",
       "      <td>5</td>\n",
       "      <td>3637.91</td>\n",
       "      <td>38.53</td>\n",
       "      <td>Meru</td>\n",
       "      <td>0.036784</td>\n",
       "      <td>37.654155</td>\n",
       "      <td>0 days 06:00:00</td>\n",
       "      <td>-1.277078</td>\n",
       "      <td>36.814669</td>\n",
       "    </tr>\n",
       "    <tr>\n",
       "      <th>5</th>\n",
       "      <td>ID_172101</td>\n",
       "      <td>5</td>\n",
       "      <td>3637.91</td>\n",
       "      <td>38.53</td>\n",
       "      <td>Meru</td>\n",
       "      <td>0.036784</td>\n",
       "      <td>37.654155</td>\n",
       "      <td>0 days 06:00:00</td>\n",
       "      <td>-1.277078</td>\n",
       "      <td>36.814669</td>\n",
       "    </tr>\n",
       "    <tr>\n",
       "      <th>6</th>\n",
       "      <td>ID_172101</td>\n",
       "      <td>5</td>\n",
       "      <td>3637.91</td>\n",
       "      <td>38.53</td>\n",
       "      <td>Meru</td>\n",
       "      <td>0.036784</td>\n",
       "      <td>37.654155</td>\n",
       "      <td>0 days 06:00:00</td>\n",
       "      <td>-1.277078</td>\n",
       "      <td>36.814669</td>\n",
       "    </tr>\n",
       "    <tr>\n",
       "      <th>7</th>\n",
       "      <td>ID_172101</td>\n",
       "      <td>6</td>\n",
       "      <td>9860.40</td>\n",
       "      <td>99.60</td>\n",
       "      <td>Meru</td>\n",
       "      <td>0.036784</td>\n",
       "      <td>37.654155</td>\n",
       "      <td>0 days 06:00:00</td>\n",
       "      <td>-1.277078</td>\n",
       "      <td>36.814669</td>\n",
       "    </tr>\n",
       "    <tr>\n",
       "      <th>8</th>\n",
       "      <td>ID_172101</td>\n",
       "      <td>6</td>\n",
       "      <td>9860.40</td>\n",
       "      <td>99.60</td>\n",
       "      <td>Meru</td>\n",
       "      <td>0.036784</td>\n",
       "      <td>37.654155</td>\n",
       "      <td>0 days 06:00:00</td>\n",
       "      <td>-1.277078</td>\n",
       "      <td>36.814669</td>\n",
       "    </tr>\n",
       "    <tr>\n",
       "      <th>9</th>\n",
       "      <td>ID_172101</td>\n",
       "      <td>4</td>\n",
       "      <td>5258.28</td>\n",
       "      <td>136.60</td>\n",
       "      <td>Meru</td>\n",
       "      <td>0.036784</td>\n",
       "      <td>37.654155</td>\n",
       "      <td>0 days 06:00:00</td>\n",
       "      <td>-1.277078</td>\n",
       "      <td>36.814669</td>\n",
       "    </tr>\n",
       "  </tbody>\n",
       "</table>\n",
       "</div>"
      ],
      "text/plain": [
       "  customer_number  total_qty  net_total  discount_amount territory  \\\n",
       "0       ID_172101          6    2231.57            66.38      Meru   \n",
       "1       ID_172101          6    2231.57            66.38      Meru   \n",
       "2       ID_172101          6    2231.57            66.38      Meru   \n",
       "3       ID_172101          5    3637.91            38.53      Meru   \n",
       "4       ID_172101          5    3637.91            38.53      Meru   \n",
       "5       ID_172101          5    3637.91            38.53      Meru   \n",
       "6       ID_172101          5    3637.91            38.53      Meru   \n",
       "7       ID_172101          6    9860.40            99.60      Meru   \n",
       "8       ID_172101          6    9860.40            99.60      Meru   \n",
       "9       ID_172101          4    5258.28           136.60      Meru   \n",
       "\n",
       "   duka_latitude  duka_longitude   delivery_time  warehouse_latitude  \\\n",
       "0       0.036784       37.654155 0 days 06:00:00           -1.277078   \n",
       "1       0.036784       37.654155 0 days 06:00:00           -1.277078   \n",
       "2       0.036784       37.654155 0 days 06:00:00           -1.277078   \n",
       "3       0.036784       37.654155 0 days 06:00:00           -1.277078   \n",
       "4       0.036784       37.654155 0 days 06:00:00           -1.277078   \n",
       "5       0.036784       37.654155 0 days 06:00:00           -1.277078   \n",
       "6       0.036784       37.654155 0 days 06:00:00           -1.277078   \n",
       "7       0.036784       37.654155 0 days 06:00:00           -1.277078   \n",
       "8       0.036784       37.654155 0 days 06:00:00           -1.277078   \n",
       "9       0.036784       37.654155 0 days 06:00:00           -1.277078   \n",
       "\n",
       "   warehouse_longitude  \n",
       "0            36.814669  \n",
       "1            36.814669  \n",
       "2            36.814669  \n",
       "3            36.814669  \n",
       "4            36.814669  \n",
       "5            36.814669  \n",
       "6            36.814669  \n",
       "7            36.814669  \n",
       "8            36.814669  \n",
       "9            36.814669  "
      ]
     },
     "execution_count": 21,
     "metadata": {},
     "output_type": "execute_result"
    }
   ],
   "source": [
    "#join the two datasets using territory as unique id\n",
    "df = df_dataset.merge(df_territories_centroids, how = \"inner\", on = [\"territory\"])\n",
    "\n",
    "\n",
    "#check shape of data ; ensure data integrity \n",
    "print(\"Shape of df_dataset:\", df_dataset.shape, \"\\n\"\n",
    "      \"Shaped of df_territories_centroids:\", df_territories_centroids.shape, \"\\n\"\n",
    "      \"Shape of merged data:\" ,df.shape)\n",
    "df.head(10)"
   ]
  },
  {
   "cell_type": "code",
   "execution_count": 22,
   "id": "e99407aa-00e0-4613-8c2e-8d42d11a3c22",
   "metadata": {},
   "outputs": [
    {
     "name": "stdout",
     "output_type": "stream",
     "text": [
      "<class 'pandas.core.frame.DataFrame'>\n",
      "RangeIndex: 43708 entries, 0 to 43707\n",
      "Data columns (total 10 columns):\n",
      " #   Column               Non-Null Count  Dtype          \n",
      "---  ------               --------------  -----          \n",
      " 0   customer_number      43708 non-null  object         \n",
      " 1   total_qty            43708 non-null  int64          \n",
      " 2   net_total            43708 non-null  float64        \n",
      " 3   discount_amount      43708 non-null  float64        \n",
      " 4   territory            43708 non-null  object         \n",
      " 5   duka_latitude        43708 non-null  float64        \n",
      " 6   duka_longitude       43708 non-null  float64        \n",
      " 7   delivery_time        43708 non-null  timedelta64[ns]\n",
      " 8   warehouse_latitude   43708 non-null  float64        \n",
      " 9   warehouse_longitude  43708 non-null  float64        \n",
      "dtypes: float64(6), int64(1), object(2), timedelta64[ns](1)\n",
      "memory usage: 3.3+ MB\n"
     ]
    }
   ],
   "source": [
    "#check for general data information \n",
    "df.info()"
   ]
  },
  {
   "cell_type": "code",
   "execution_count": 23,
   "id": "70284266-52e5-4db8-9477-971003d83485",
   "metadata": {},
   "outputs": [
    {
     "name": "stdout",
     "output_type": "stream",
     "text": [
      "Number of Duplicated observations: 23896 \n",
      "\n"
     ]
    },
    {
     "data": {
      "text/html": [
       "<div>\n",
       "<style scoped>\n",
       "    .dataframe tbody tr th:only-of-type {\n",
       "        vertical-align: middle;\n",
       "    }\n",
       "\n",
       "    .dataframe tbody tr th {\n",
       "        vertical-align: top;\n",
       "    }\n",
       "\n",
       "    .dataframe thead th {\n",
       "        text-align: right;\n",
       "    }\n",
       "</style>\n",
       "<table border=\"1\" class=\"dataframe\">\n",
       "  <thead>\n",
       "    <tr style=\"text-align: right;\">\n",
       "      <th></th>\n",
       "      <th>customer_number</th>\n",
       "      <th>total_qty</th>\n",
       "      <th>net_total</th>\n",
       "      <th>discount_amount</th>\n",
       "      <th>territory</th>\n",
       "      <th>duka_latitude</th>\n",
       "      <th>duka_longitude</th>\n",
       "      <th>delivery_time</th>\n",
       "      <th>warehouse_latitude</th>\n",
       "      <th>warehouse_longitude</th>\n",
       "    </tr>\n",
       "  </thead>\n",
       "  <tbody>\n",
       "    <tr>\n",
       "      <th>1</th>\n",
       "      <td>ID_172101</td>\n",
       "      <td>6</td>\n",
       "      <td>2231.57</td>\n",
       "      <td>66.38</td>\n",
       "      <td>Meru</td>\n",
       "      <td>0.036784</td>\n",
       "      <td>37.654155</td>\n",
       "      <td>0 days 06:00:00</td>\n",
       "      <td>-1.277078</td>\n",
       "      <td>36.814669</td>\n",
       "    </tr>\n",
       "    <tr>\n",
       "      <th>2</th>\n",
       "      <td>ID_172101</td>\n",
       "      <td>6</td>\n",
       "      <td>2231.57</td>\n",
       "      <td>66.38</td>\n",
       "      <td>Meru</td>\n",
       "      <td>0.036784</td>\n",
       "      <td>37.654155</td>\n",
       "      <td>0 days 06:00:00</td>\n",
       "      <td>-1.277078</td>\n",
       "      <td>36.814669</td>\n",
       "    </tr>\n",
       "    <tr>\n",
       "      <th>4</th>\n",
       "      <td>ID_172101</td>\n",
       "      <td>5</td>\n",
       "      <td>3637.91</td>\n",
       "      <td>38.53</td>\n",
       "      <td>Meru</td>\n",
       "      <td>0.036784</td>\n",
       "      <td>37.654155</td>\n",
       "      <td>0 days 06:00:00</td>\n",
       "      <td>-1.277078</td>\n",
       "      <td>36.814669</td>\n",
       "    </tr>\n",
       "    <tr>\n",
       "      <th>5</th>\n",
       "      <td>ID_172101</td>\n",
       "      <td>5</td>\n",
       "      <td>3637.91</td>\n",
       "      <td>38.53</td>\n",
       "      <td>Meru</td>\n",
       "      <td>0.036784</td>\n",
       "      <td>37.654155</td>\n",
       "      <td>0 days 06:00:00</td>\n",
       "      <td>-1.277078</td>\n",
       "      <td>36.814669</td>\n",
       "    </tr>\n",
       "    <tr>\n",
       "      <th>6</th>\n",
       "      <td>ID_172101</td>\n",
       "      <td>5</td>\n",
       "      <td>3637.91</td>\n",
       "      <td>38.53</td>\n",
       "      <td>Meru</td>\n",
       "      <td>0.036784</td>\n",
       "      <td>37.654155</td>\n",
       "      <td>0 days 06:00:00</td>\n",
       "      <td>-1.277078</td>\n",
       "      <td>36.814669</td>\n",
       "    </tr>\n",
       "    <tr>\n",
       "      <th>...</th>\n",
       "      <td>...</td>\n",
       "      <td>...</td>\n",
       "      <td>...</td>\n",
       "      <td>...</td>\n",
       "      <td>...</td>\n",
       "      <td>...</td>\n",
       "      <td>...</td>\n",
       "      <td>...</td>\n",
       "      <td>...</td>\n",
       "      <td>...</td>\n",
       "    </tr>\n",
       "    <tr>\n",
       "      <th>43701</th>\n",
       "      <td>ID_066466</td>\n",
       "      <td>2</td>\n",
       "      <td>2034.06</td>\n",
       "      <td>60.50</td>\n",
       "      <td>Karatina</td>\n",
       "      <td>-0.564060</td>\n",
       "      <td>37.074678</td>\n",
       "      <td>0 days 06:00:00</td>\n",
       "      <td>-0.473139</td>\n",
       "      <td>37.126222</td>\n",
       "    </tr>\n",
       "    <tr>\n",
       "      <th>43703</th>\n",
       "      <td>ID_066466</td>\n",
       "      <td>2</td>\n",
       "      <td>1194.83</td>\n",
       "      <td>14.00</td>\n",
       "      <td>Karatina</td>\n",
       "      <td>-0.564060</td>\n",
       "      <td>37.074678</td>\n",
       "      <td>0 days 06:00:00</td>\n",
       "      <td>-0.473139</td>\n",
       "      <td>37.126222</td>\n",
       "    </tr>\n",
       "    <tr>\n",
       "      <th>43705</th>\n",
       "      <td>ID_066466</td>\n",
       "      <td>4</td>\n",
       "      <td>6874.52</td>\n",
       "      <td>80.55</td>\n",
       "      <td>Karatina</td>\n",
       "      <td>-0.564060</td>\n",
       "      <td>37.074678</td>\n",
       "      <td>0 days 06:00:00</td>\n",
       "      <td>-0.473139</td>\n",
       "      <td>37.126222</td>\n",
       "    </tr>\n",
       "    <tr>\n",
       "      <th>43706</th>\n",
       "      <td>ID_066466</td>\n",
       "      <td>4</td>\n",
       "      <td>6874.52</td>\n",
       "      <td>80.55</td>\n",
       "      <td>Karatina</td>\n",
       "      <td>-0.564060</td>\n",
       "      <td>37.074678</td>\n",
       "      <td>0 days 06:00:00</td>\n",
       "      <td>-0.473139</td>\n",
       "      <td>37.126222</td>\n",
       "    </tr>\n",
       "    <tr>\n",
       "      <th>43707</th>\n",
       "      <td>ID_066466</td>\n",
       "      <td>4</td>\n",
       "      <td>6874.52</td>\n",
       "      <td>80.55</td>\n",
       "      <td>Karatina</td>\n",
       "      <td>-0.564060</td>\n",
       "      <td>37.074678</td>\n",
       "      <td>0 days 06:00:00</td>\n",
       "      <td>-0.473139</td>\n",
       "      <td>37.126222</td>\n",
       "    </tr>\n",
       "  </tbody>\n",
       "</table>\n",
       "<p>23896 rows × 10 columns</p>\n",
       "</div>"
      ],
      "text/plain": [
       "      customer_number  total_qty  net_total  discount_amount territory  \\\n",
       "1           ID_172101          6    2231.57            66.38      Meru   \n",
       "2           ID_172101          6    2231.57            66.38      Meru   \n",
       "4           ID_172101          5    3637.91            38.53      Meru   \n",
       "5           ID_172101          5    3637.91            38.53      Meru   \n",
       "6           ID_172101          5    3637.91            38.53      Meru   \n",
       "...               ...        ...        ...              ...       ...   \n",
       "43701       ID_066466          2    2034.06            60.50  Karatina   \n",
       "43703       ID_066466          2    1194.83            14.00  Karatina   \n",
       "43705       ID_066466          4    6874.52            80.55  Karatina   \n",
       "43706       ID_066466          4    6874.52            80.55  Karatina   \n",
       "43707       ID_066466          4    6874.52            80.55  Karatina   \n",
       "\n",
       "       duka_latitude  duka_longitude   delivery_time  warehouse_latitude  \\\n",
       "1           0.036784       37.654155 0 days 06:00:00           -1.277078   \n",
       "2           0.036784       37.654155 0 days 06:00:00           -1.277078   \n",
       "4           0.036784       37.654155 0 days 06:00:00           -1.277078   \n",
       "5           0.036784       37.654155 0 days 06:00:00           -1.277078   \n",
       "6           0.036784       37.654155 0 days 06:00:00           -1.277078   \n",
       "...              ...             ...             ...                 ...   \n",
       "43701      -0.564060       37.074678 0 days 06:00:00           -0.473139   \n",
       "43703      -0.564060       37.074678 0 days 06:00:00           -0.473139   \n",
       "43705      -0.564060       37.074678 0 days 06:00:00           -0.473139   \n",
       "43706      -0.564060       37.074678 0 days 06:00:00           -0.473139   \n",
       "43707      -0.564060       37.074678 0 days 06:00:00           -0.473139   \n",
       "\n",
       "       warehouse_longitude  \n",
       "1                36.814669  \n",
       "2                36.814669  \n",
       "4                36.814669  \n",
       "5                36.814669  \n",
       "6                36.814669  \n",
       "...                    ...  \n",
       "43701            37.126222  \n",
       "43703            37.126222  \n",
       "43705            37.126222  \n",
       "43706            37.126222  \n",
       "43707            37.126222  \n",
       "\n",
       "[23896 rows x 10 columns]"
      ]
     },
     "execution_count": 23,
     "metadata": {},
     "output_type": "execute_result"
    }
   ],
   "source": [
    "#check for duplicates\n",
    "print(\"Number of Duplicated observations:\", df.duplicated().sum(),\"\\n\")\n",
    "\n",
    "#display duplicated observations as a dataframe \n",
    "df[df.duplicated()]"
   ]
  },
  {
   "cell_type": "code",
   "execution_count": 24,
   "id": "fda5f094-00df-4727-8414-cf8cb3a25f42",
   "metadata": {},
   "outputs": [
    {
     "name": "stdout",
     "output_type": "stream",
     "text": [
      "0\n",
      "Shape of new data:  (19812, 10)\n"
     ]
    }
   ],
   "source": [
    "#drop duplicates\n",
    "df = df.drop_duplicates(keep = \"first\")\n",
    "\n",
    "#reveiew duplicates\n",
    "print(df.duplicated().sum())\n",
    "print(\"Shape of new data: \", df.shape)"
   ]
  },
  {
   "cell_type": "markdown",
   "id": "9e29d26c-0cfc-4ee6-a734-c111c01bb217",
   "metadata": {},
   "source": [
    "### Geo-spatial calculations and Clustering Data "
   ]
  },
  {
   "cell_type": "code",
   "execution_count": 25,
   "id": "923b1f23-3ba0-4b61-a671-6e44913b9a4d",
   "metadata": {},
   "outputs": [],
   "source": [
    "# Haversine Distance: Determine distance between warehouse and retailers \n",
    "def distance (latitude1, longitude1,latitude2, longitude2):\n",
    "    Earth_radius = 6371\n",
    "    latitude_distance = np.radians(latitude2 - latitude1)\n",
    "    longitude_distance = np.radians(longitude2 -  longitude1)\n",
    "    d = np.sin(latitude_distance/2)**2 + np.cos(np.radians(latitude1)) * np.cos(np.radians(latitude2)) * np.sin(longitude_distance/2) **2\n",
    "    r = 2 * np.arctan2(np.sqrt(d), np.sqrt(1-d))\n",
    "    return Earth_radius * r\n",
    "\n",
    "#call function to data\n",
    "#add column route_distance\n",
    "df[\"route_distance\"] = df.apply(lambda row: distance(row[\"duka_latitude\"], row[\"duka_longitude\"], \n",
    "                                                     row[\"warehouse_latitude\"], row[\"warehouse_longitude\"]), axis =1)\n",
    "\n",
    "#get values for coordinates \n",
    "coordinates = df[[\"duka_latitude\",\"duka_longitude\"]].values\n",
    "\n",
    "#Scaling the data: initiate and fit data \n",
    "scaled_coordinate = StandardScaler().fit_transform(coordinates)\n"
   ]
  },
  {
   "cell_type": "code",
   "execution_count": 26,
   "id": "a3f6670a-7d16-43fc-a03d-c91c14e64ce0",
   "metadata": {},
   "outputs": [
    {
     "data": {
      "text/html": [
       "<div>\n",
       "<style scoped>\n",
       "    .dataframe tbody tr th:only-of-type {\n",
       "        vertical-align: middle;\n",
       "    }\n",
       "\n",
       "    .dataframe tbody tr th {\n",
       "        vertical-align: top;\n",
       "    }\n",
       "\n",
       "    .dataframe thead tr th {\n",
       "        text-align: left;\n",
       "    }\n",
       "\n",
       "    .dataframe thead tr:last-of-type th {\n",
       "        text-align: right;\n",
       "    }\n",
       "</style>\n",
       "<table border=\"1\" class=\"dataframe\">\n",
       "  <thead>\n",
       "    <tr>\n",
       "      <th></th>\n",
       "      <th colspan=\"2\" halign=\"left\">route_distance</th>\n",
       "      <th>total_qty</th>\n",
       "    </tr>\n",
       "    <tr>\n",
       "      <th></th>\n",
       "      <th>mean</th>\n",
       "      <th>max</th>\n",
       "      <th>sum</th>\n",
       "    </tr>\n",
       "    <tr>\n",
       "      <th>Clustered</th>\n",
       "      <th></th>\n",
       "      <th></th>\n",
       "      <th></th>\n",
       "    </tr>\n",
       "  </thead>\n",
       "  <tbody>\n",
       "    <tr>\n",
       "      <th>0</th>\n",
       "      <td>14.187104</td>\n",
       "      <td>102.444705</td>\n",
       "      <td>12300</td>\n",
       "    </tr>\n",
       "    <tr>\n",
       "      <th>1</th>\n",
       "      <td>6.950137</td>\n",
       "      <td>52.455519</td>\n",
       "      <td>51433</td>\n",
       "    </tr>\n",
       "    <tr>\n",
       "      <th>2</th>\n",
       "      <td>13.347470</td>\n",
       "      <td>43.396622</td>\n",
       "      <td>4372</td>\n",
       "    </tr>\n",
       "    <tr>\n",
       "      <th>3</th>\n",
       "      <td>14.428333</td>\n",
       "      <td>61.065461</td>\n",
       "      <td>4348</td>\n",
       "    </tr>\n",
       "    <tr>\n",
       "      <th>4</th>\n",
       "      <td>52.968865</td>\n",
       "      <td>219.034965</td>\n",
       "      <td>12070</td>\n",
       "    </tr>\n",
       "    <tr>\n",
       "      <th>5</th>\n",
       "      <td>9.180304</td>\n",
       "      <td>66.437235</td>\n",
       "      <td>15466</td>\n",
       "    </tr>\n",
       "  </tbody>\n",
       "</table>\n",
       "</div>"
      ],
      "text/plain": [
       "          route_distance             total_qty\n",
       "                    mean         max       sum\n",
       "Clustered                                     \n",
       "0              14.187104  102.444705     12300\n",
       "1               6.950137   52.455519     51433\n",
       "2              13.347470   43.396622      4372\n",
       "3              14.428333   61.065461      4348\n",
       "4              52.968865  219.034965     12070\n",
       "5               9.180304   66.437235     15466"
      ]
     },
     "execution_count": 26,
     "metadata": {},
     "output_type": "execute_result"
    }
   ],
   "source": [
    "#cluster data using Kmeans \n",
    "K_cluster = KMeans(n_clusters = 6 , random_state = 2).fit(scaled_coordinate)\n",
    "\n",
    "#create column clustered\n",
    "df[\"Clustered\"] = K_cluster.labels_\n",
    "\n",
    "#Describe clustered data in dataframe\n",
    "df.groupby(\"Clustered\").agg({\"route_distance\": [\"mean\", \"max\"], \"total_qty\":\"sum\"})"
   ]
  },
  {
   "cell_type": "code",
   "execution_count": 27,
   "id": "662d4a44-0604-4a0c-b70a-fcd52e14c7cd",
   "metadata": {},
   "outputs": [
    {
     "data": {
      "text/html": [
       "<div>\n",
       "<style scoped>\n",
       "    .dataframe tbody tr th:only-of-type {\n",
       "        vertical-align: middle;\n",
       "    }\n",
       "\n",
       "    .dataframe tbody tr th {\n",
       "        vertical-align: top;\n",
       "    }\n",
       "\n",
       "    .dataframe thead th {\n",
       "        text-align: right;\n",
       "    }\n",
       "</style>\n",
       "<table border=\"1\" class=\"dataframe\">\n",
       "  <thead>\n",
       "    <tr style=\"text-align: right;\">\n",
       "      <th></th>\n",
       "      <th>customer_number</th>\n",
       "      <th>total_qty</th>\n",
       "      <th>net_total</th>\n",
       "      <th>discount_amount</th>\n",
       "      <th>territory</th>\n",
       "      <th>duka_latitude</th>\n",
       "      <th>duka_longitude</th>\n",
       "      <th>delivery_time</th>\n",
       "      <th>warehouse_latitude</th>\n",
       "      <th>warehouse_longitude</th>\n",
       "      <th>route_distance</th>\n",
       "      <th>Clustered</th>\n",
       "    </tr>\n",
       "  </thead>\n",
       "  <tbody>\n",
       "    <tr>\n",
       "      <th>0</th>\n",
       "      <td>ID_172101</td>\n",
       "      <td>6</td>\n",
       "      <td>2231.57</td>\n",
       "      <td>66.38</td>\n",
       "      <td>Meru</td>\n",
       "      <td>0.036784</td>\n",
       "      <td>37.654155</td>\n",
       "      <td>0 days 06:00:00</td>\n",
       "      <td>-1.277078</td>\n",
       "      <td>36.814669</td>\n",
       "      <td>173.366324</td>\n",
       "      <td>4</td>\n",
       "    </tr>\n",
       "    <tr>\n",
       "      <th>3</th>\n",
       "      <td>ID_172101</td>\n",
       "      <td>5</td>\n",
       "      <td>3637.91</td>\n",
       "      <td>38.53</td>\n",
       "      <td>Meru</td>\n",
       "      <td>0.036784</td>\n",
       "      <td>37.654155</td>\n",
       "      <td>0 days 06:00:00</td>\n",
       "      <td>-1.277078</td>\n",
       "      <td>36.814669</td>\n",
       "      <td>173.366324</td>\n",
       "      <td>4</td>\n",
       "    </tr>\n",
       "  </tbody>\n",
       "</table>\n",
       "</div>"
      ],
      "text/plain": [
       "  customer_number  total_qty  net_total  discount_amount territory  \\\n",
       "0       ID_172101          6    2231.57            66.38      Meru   \n",
       "3       ID_172101          5    3637.91            38.53      Meru   \n",
       "\n",
       "   duka_latitude  duka_longitude   delivery_time  warehouse_latitude  \\\n",
       "0       0.036784       37.654155 0 days 06:00:00           -1.277078   \n",
       "3       0.036784       37.654155 0 days 06:00:00           -1.277078   \n",
       "\n",
       "   warehouse_longitude  route_distance  Clustered  \n",
       "0            36.814669      173.366324          4  \n",
       "3            36.814669      173.366324          4  "
      ]
     },
     "execution_count": 27,
     "metadata": {},
     "output_type": "execute_result"
    }
   ],
   "source": [
    "#Preview dataset with required columns \n",
    "df.head(2)"
   ]
  },
  {
   "cell_type": "code",
   "execution_count": 28,
   "id": "2b67efa6-c794-4e9b-9f0e-d89ce30dbf6e",
   "metadata": {},
   "outputs": [],
   "source": [
    "#Save the data as excel sheet\n",
    "df.to_excel(\"Dynamic_routedata.xlsx\")"
   ]
  },
  {
   "cell_type": "markdown",
   "id": "7ea44076-e3bf-401b-9484-14e57d3bcfd4",
   "metadata": {},
   "source": [
    "### Visualize Dynamic Route "
   ]
  },
  {
   "cell_type": "code",
   "execution_count": 29,
   "id": "802fed2e-c8cf-4306-8bf5-f7b89571a0e0",
   "metadata": {},
   "outputs": [],
   "source": [
    "#feature engineer \n",
    "warehouse_coords = df[[\"warehouse_latitude\", \"warehouse_longitude\"]].drop_duplicates().reset_index(drop = True)\n",
    "customer_coords  = df[[\"duka_latitude\", \"duka_longitude\"]].drop_duplicates().reset_index(drop = True)\n",
    "\n",
    "# centralizing locations using the mean \n",
    "mapping = folium.Map(location = [df[\"duka_latitude\"].mean(), df[\"duka_longitude\"].mean()], zoom_start = 8.0)\n",
    "\n",
    "#Locations for warehouses\n",
    "for _, row in warehouse_coords.iterrows():\n",
    "    folium.Marker(location = [row[\"warehouse_latitude\"], row[\"warehouse_longitude\"]], \n",
    "                  popup = \"warehouse\", icon = folium.Icon(color = \"darkgreen\",icon = \"info-sign\")).add_to(mapping)\n",
    "\n",
    "#locations for Retailers\n",
    "for _, row in customer_coords.iterrows():\n",
    "    folium.Marker(location = [row[\"duka_latitude\"], row[\"duka_longitude\"]], \n",
    "                  popup = \"Retailer\", icon = folium.Icon(color = \"red\",icon = \"info-sign\")).add_to(mapping)\n",
    "\n",
    "#Dynamic routings\n",
    "for _, row in df.iterrows():\n",
    "    folium.PolyLine(\n",
    "        locations = [\n",
    "            (row[\"duka_latitude\"], row[\"duka_longitude\"]),\n",
    "            (row[\"warehouse_latitude\"], row[\"warehouse_longitude\"])\n",
    "        ], \n",
    "        colors= \"lightblue\", \n",
    "        weight = 2.2, \n",
    "        opacity = 0.8\n",
    "    ).add_to(mapping)\n",
    "\n",
    "#Saving map in HTML format\n",
    "mapping.save(\"dynamic_routing.html\")\n",
    "                  "
   ]
  },
  {
   "cell_type": "markdown",
   "id": "91d417c9-8a27-4a6f-bfdb-6cb2bebc76cc",
   "metadata": {},
   "source": [
    "## Question 2: The Most Important Aspects in Churn Prediction"
   ]
  },
  {
   "cell_type": "code",
   "execution_count": 30,
   "id": "a10652b3-3663-46dd-a6d6-b721f4fdd89e",
   "metadata": {},
   "outputs": [],
   "source": [
    "#import required libraries \n",
    "import pandas as pd\n",
    "import matplotlib.pyplot as plt\n",
    "from datetime import datetime, timedelta\n",
    "from sklearn.preprocessing import LabelEncoder\n",
    "import seaborn as sns\n",
    "import numpy as np\n",
    "from sklearn.model_selection import train_test_split\n",
    "from sklearn.linear_model import LogisticRegressionCV\n",
    "from sklearn.metrics import confusion_matrix, classification_report\n",
    "from imblearn.over_sampling import SMOTE\n",
    "from sklearn.ensemble import GradientBoostingClassifier"
   ]
  },
  {
   "cell_type": "code",
   "execution_count": 31,
   "id": "55a0b863-ded2-4ff5-861f-69691396eb22",
   "metadata": {},
   "outputs": [
    {
     "data": {
      "text/html": [
       "<div>\n",
       "<style scoped>\n",
       "    .dataframe tbody tr th:only-of-type {\n",
       "        vertical-align: middle;\n",
       "    }\n",
       "\n",
       "    .dataframe tbody tr th {\n",
       "        vertical-align: top;\n",
       "    }\n",
       "\n",
       "    .dataframe thead th {\n",
       "        text-align: right;\n",
       "    }\n",
       "</style>\n",
       "<table border=\"1\" class=\"dataframe\">\n",
       "  <thead>\n",
       "    <tr style=\"text-align: right;\">\n",
       "      <th></th>\n",
       "      <th>order_id</th>\n",
       "      <th>customer_number</th>\n",
       "      <th>transaction_date</th>\n",
       "      <th>description</th>\n",
       "      <th>total_qty</th>\n",
       "      <th>net_total</th>\n",
       "      <th>loyalty_amount</th>\n",
       "      <th>loyalty_points</th>\n",
       "      <th>discount_amount</th>\n",
       "      <th>customer_group</th>\n",
       "      <th>territory</th>\n",
       "      <th>delivery_date</th>\n",
       "      <th>delivery_window_end_time</th>\n",
       "      <th>delivery_window_start_time</th>\n",
       "      <th>set_warehouse</th>\n",
       "      <th>duka_latitude</th>\n",
       "      <th>duka_longitude</th>\n",
       "    </tr>\n",
       "  </thead>\n",
       "  <tbody>\n",
       "    <tr>\n",
       "      <th>0</th>\n",
       "      <td>04aeddd4-d9b3-4cca-ab3b-072ca177a3e1</td>\n",
       "      <td>ID_172101</td>\n",
       "      <td>28/03/2022</td>\n",
       "      <td>Steam Energy Energy Drink 400ML CARTON (1.0 Item)</td>\n",
       "      <td>6</td>\n",
       "      <td>2231.57</td>\n",
       "      <td>0</td>\n",
       "      <td>0</td>\n",
       "      <td>66.38</td>\n",
       "      <td>Individual</td>\n",
       "      <td>Meru</td>\n",
       "      <td>29/03/2022</td>\n",
       "      <td>19:00:00</td>\n",
       "      <td>13:00:00</td>\n",
       "      <td>Meru Main - KDKE</td>\n",
       "      <td>0.036784</td>\n",
       "      <td>37.654155</td>\n",
       "    </tr>\n",
       "    <tr>\n",
       "      <th>1</th>\n",
       "      <td>04aeddd4-d9b3-4cca-ab3b-072ca177a3e1</td>\n",
       "      <td>ID_172101</td>\n",
       "      <td>28/03/2022</td>\n",
       "      <td>Sumo Candles 8PC CARTON (12.0 Outers)</td>\n",
       "      <td>6</td>\n",
       "      <td>2231.57</td>\n",
       "      <td>0</td>\n",
       "      <td>0</td>\n",
       "      <td>66.38</td>\n",
       "      <td>Individual</td>\n",
       "      <td>Meru</td>\n",
       "      <td>29/03/2022</td>\n",
       "      <td>19:00:00</td>\n",
       "      <td>13:00:00</td>\n",
       "      <td>Meru Main - KDKE</td>\n",
       "      <td>0.036784</td>\n",
       "      <td>37.654155</td>\n",
       "    </tr>\n",
       "  </tbody>\n",
       "</table>\n",
       "</div>"
      ],
      "text/plain": [
       "                               order_id customer_number transaction_date  \\\n",
       "0  04aeddd4-d9b3-4cca-ab3b-072ca177a3e1       ID_172101       28/03/2022   \n",
       "1  04aeddd4-d9b3-4cca-ab3b-072ca177a3e1       ID_172101       28/03/2022   \n",
       "\n",
       "                                         description  total_qty  net_total  \\\n",
       "0  Steam Energy Energy Drink 400ML CARTON (1.0 Item)          6    2231.57   \n",
       "1              Sumo Candles 8PC CARTON (12.0 Outers)          6    2231.57   \n",
       "\n",
       "   loyalty_amount  loyalty_points  discount_amount customer_group territory  \\\n",
       "0               0               0            66.38     Individual      Meru   \n",
       "1               0               0            66.38     Individual      Meru   \n",
       "\n",
       "  delivery_date delivery_window_end_time delivery_window_start_time  \\\n",
       "0    29/03/2022                 19:00:00                   13:00:00   \n",
       "1    29/03/2022                 19:00:00                   13:00:00   \n",
       "\n",
       "      set_warehouse  duka_latitude  duka_longitude  \n",
       "0  Meru Main - KDKE       0.036784       37.654155  \n",
       "1  Meru Main - KDKE       0.036784       37.654155  "
      ]
     },
     "execution_count": 31,
     "metadata": {},
     "output_type": "execute_result"
    }
   ],
   "source": [
    "#load required data \n",
    "df_dataset = pd.read_csv(\"dataset.csv\")\n",
    "df_dataset_copy = pd.read_csv(\"dataset.csv\")\n",
    "#preview dataset\n",
    "df_dataset.head(2)"
   ]
  },
  {
   "cell_type": "code",
   "execution_count": 32,
   "id": "d9fce0c5-62bf-4604-972c-24fb1a7aefd6",
   "metadata": {},
   "outputs": [
    {
     "name": "stdout",
     "output_type": "stream",
     "text": [
      "Shape of data:  (43718, 17)\n"
     ]
    },
    {
     "data": {
      "text/plain": [
       "Index(['order_id', 'customer_number', 'transaction_date', 'description',\n",
       "       'total_qty', 'net_total', 'loyalty_amount', 'loyalty_points',\n",
       "       'discount_amount', 'customer_group', 'territory', 'delivery_date',\n",
       "       'delivery_window_end_time', 'delivery_window_start_time',\n",
       "       'set_warehouse', 'duka_latitude', 'duka_longitude'],\n",
       "      dtype='object')"
      ]
     },
     "execution_count": 32,
     "metadata": {},
     "output_type": "execute_result"
    }
   ],
   "source": [
    "#preview columns and shape\n",
    "print(\"Shape of data: \", df_dataset.shape)\n",
    "df_dataset.columns\n"
   ]
  },
  {
   "cell_type": "code",
   "execution_count": 33,
   "id": "79e48e09-ef65-422e-856d-c7cab44fe86a",
   "metadata": {},
   "outputs": [
    {
     "data": {
      "text/plain": [
       "transaction_date\n",
       "21/03/2022    1770\n",
       "14/03/2022    1628\n",
       "01/03/2022    1499\n",
       "28/03/2022    1466\n",
       "28/02/2022    1399\n",
       "22/03/2022    1396\n",
       "15/03/2022    1369\n",
       "07/03/2022    1368\n",
       "25/03/2022    1317\n",
       "23/03/2022    1291\n",
       "31/03/2022    1265\n",
       "24/03/2022    1254\n",
       "16/03/2022    1212\n",
       "11/03/2022    1145\n",
       "29/03/2022    1143\n",
       "08/03/2022    1104\n",
       "24/02/2022    1062\n",
       "17/03/2022    1050\n",
       "18/03/2022    1021\n",
       "19/03/2022    1010\n",
       "09/03/2022    1003\n",
       "25/02/2022     983\n",
       "02/03/2022     978\n",
       "30/03/2022     960\n",
       "10/03/2022     960\n",
       "22/02/2022     933\n",
       "03/03/2022     930\n",
       "04/03/2022     903\n",
       "23/02/2022     816\n",
       "26/03/2022     780\n",
       "26/02/2022     759\n",
       "12/03/2022     744\n",
       "16/02/2022     722\n",
       "21/02/2022     685\n",
       "17/02/2022     649\n",
       "05/03/2022     633\n",
       "15/02/2022     632\n",
       "06/03/2022     552\n",
       "13/03/2022     510\n",
       "20/03/2022     484\n",
       "18/02/2022     481\n",
       "27/03/2022     478\n",
       "27/02/2022     398\n",
       "14/02/2022     360\n",
       "20/02/2022     266\n",
       "11/02/2022      80\n",
       "13/02/2022      77\n",
       "19/02/2022      73\n",
       "12/02/2022      66\n",
       "10/02/2022      41\n",
       "09/02/2022      13\n",
       "Name: count, dtype: int64"
      ]
     },
     "execution_count": 33,
     "metadata": {},
     "output_type": "execute_result"
    }
   ],
   "source": [
    "#unique values for transaction dates and save in a dictionary\n",
    "df_dataset[\"transaction_date\"].value_counts()\n"
   ]
  },
  {
   "cell_type": "code",
   "execution_count": 34,
   "id": "86b4a47c-163c-44ba-9a61-840cd58eba84",
   "metadata": {},
   "outputs": [
    {
     "data": {
      "text/plain": [
       "count          43718\n",
       "unique            51\n",
       "top       21/03/2022\n",
       "freq            1770\n",
       "Name: transaction_date, dtype: object"
      ]
     },
     "execution_count": 34,
     "metadata": {},
     "output_type": "execute_result"
    }
   ],
   "source": [
    "#summary statistics for transactions \n",
    "df_dataset[\"transaction_date\"].describe()"
   ]
  },
  {
   "cell_type": "code",
   "execution_count": 35,
   "id": "71053ce5-5711-4479-9368-b7d8c43c80ad",
   "metadata": {},
   "outputs": [],
   "source": [
    "#determine customer churn using transaction dates\n",
    "\n",
    "#covert data from object to datetime\n",
    "df_dataset[\"transaction_date\"] = pd.to_datetime(df_dataset[\"transaction_date\"], format = \"%d/%m/%Y\")\n",
    "\n",
    "#group transaction by latest dates\n",
    "recent_transactions = df_dataset.groupby(\"customer_number\")[\"transaction_date\"].max().reset_index()\n",
    "recent_transactions.columns = [\"customer_number\", \"last_transaction_date\"]\n",
    "\n",
    "#Feature engineer churn column\n",
    "cusp_churn = df_dataset[\"transaction_date\"].max()- timedelta(days = 30)\n",
    "recent_transactions[\"churn\"] = recent_transactions[\"last_transaction_date\"] < cusp_churn\n",
    "\n",
    "#add the data to original data\n",
    "df_dataset = df_dataset.merge(recent_transactions[[\"customer_number\",\"churn\"]], on = \"customer_number\" )\n",
    "\n",
    "#make copy of churn for later use\n",
    "churn = df_dataset[\"churn\"]\n"
   ]
  },
  {
   "cell_type": "code",
   "execution_count": 36,
   "id": "33d17c02-f13b-4dd4-a539-93db29155545",
   "metadata": {},
   "outputs": [
    {
     "data": {
      "text/plain": [
       "array([False,  True])"
      ]
     },
     "execution_count": 36,
     "metadata": {},
     "output_type": "execute_result"
    }
   ],
   "source": [
    "#preview the unique values of the churn column\n",
    "df_dataset[\"churn\"].unique()"
   ]
  },
  {
   "cell_type": "code",
   "execution_count": 37,
   "id": "eaf0ad1d-7492-4b9b-b0f4-f3e241990609",
   "metadata": {},
   "outputs": [
    {
     "name": "stdout",
     "output_type": "stream",
     "text": [
      "Missing Values: order_id                      0\n",
      "customer_number               0\n",
      "transaction_date              0\n",
      "description                   0\n",
      "total_qty                     0\n",
      "net_total                     0\n",
      "loyalty_amount                0\n",
      "loyalty_points                0\n",
      "discount_amount               0\n",
      "customer_group                0\n",
      "territory                     0\n",
      "delivery_date                 0\n",
      "delivery_window_end_time      0\n",
      "delivery_window_start_time    0\n",
      "set_warehouse                 0\n",
      "duka_latitude                 0\n",
      "duka_longitude                0\n",
      "churn                         0\n",
      "dtype: int64 \n",
      "\n",
      "\n",
      "Duplicates: 10\n"
     ]
    }
   ],
   "source": [
    "#check for missing values and duplicates\n",
    "print(\"Missing Values:\", df_dataset.isna().sum(), \"\\n\\n\")\n",
    "print(\"Duplicates:\", df_dataset.duplicated().sum())"
   ]
  },
  {
   "cell_type": "code",
   "execution_count": 38,
   "id": "2ab34716-d9e7-4036-bc8b-0bfa7a9d0101",
   "metadata": {},
   "outputs": [],
   "source": [
    "#drop duplicates\n",
    "df_dataset.drop_duplicates(inplace = True)"
   ]
  },
  {
   "cell_type": "code",
   "execution_count": 39,
   "id": "be3a2984-8733-49a3-a575-fd058a9ee52a",
   "metadata": {},
   "outputs": [
    {
     "data": {
      "text/plain": [
       "(43708, 14)"
      ]
     },
     "execution_count": 39,
     "metadata": {},
     "output_type": "execute_result"
    }
   ],
   "source": [
    "#Drop columns unlikely to affect customer churn\n",
    "cols = ['order_id', 'description', 'customer_number','delivery_date']\n",
    "df_dataset.drop(columns = cols, inplace = True)\n",
    "df_dataset.shape"
   ]
  },
  {
   "cell_type": "code",
   "execution_count": 40,
   "id": "c3c671c8-cb41-4bf4-aa78-ab9aec8fa677",
   "metadata": {},
   "outputs": [],
   "source": [
    "#feature engineer relevant columns \n",
    "#Delivery time \n",
    "#evalute delivery time or periods\n",
    "df_dataset[\"delivery_time\"]  = pd.to_datetime(df_dataset[\"delivery_window_end_time\"], format = '%H:%M:%S', errors = \"coerce\") - pd.to_datetime(df_dataset[\"delivery_window_start_time\"],format = '%H:%M:%S', errors = \"coerce\") \n",
    "\n",
    "#drop delivery window start and end time\n",
    "cols = [\"delivery_window_end_time\", \"delivery_window_start_time\"]\n",
    "df_dataset.drop(columns = cols, inplace =True)"
   ]
  },
  {
   "cell_type": "code",
   "execution_count": 41,
   "id": "660007e0-ae7a-43b3-8fd4-e636ee504762",
   "metadata": {},
   "outputs": [
    {
     "name": "stdout",
     "output_type": "stream",
     "text": [
      "<class 'pandas.core.frame.DataFrame'>\n",
      "Index: 43708 entries, 0 to 43717\n",
      "Data columns (total 13 columns):\n",
      " #   Column            Non-Null Count  Dtype          \n",
      "---  ------            --------------  -----          \n",
      " 0   transaction_date  43708 non-null  datetime64[ns] \n",
      " 1   total_qty         43708 non-null  int64          \n",
      " 2   net_total         43708 non-null  float64        \n",
      " 3   loyalty_amount    43708 non-null  int64          \n",
      " 4   loyalty_points    43708 non-null  int64          \n",
      " 5   discount_amount   43708 non-null  float64        \n",
      " 6   customer_group    43708 non-null  object         \n",
      " 7   territory         43708 non-null  object         \n",
      " 8   set_warehouse     43708 non-null  object         \n",
      " 9   duka_latitude     43708 non-null  float64        \n",
      " 10  duka_longitude    43708 non-null  float64        \n",
      " 11  churn             43708 non-null  bool           \n",
      " 12  delivery_time     43708 non-null  timedelta64[ns]\n",
      "dtypes: bool(1), datetime64[ns](1), float64(4), int64(3), object(3), timedelta64[ns](1)\n",
      "memory usage: 4.4+ MB\n"
     ]
    }
   ],
   "source": [
    "#description of data\n",
    "df_dataset.info()"
   ]
  },
  {
   "cell_type": "code",
   "execution_count": 42,
   "id": "57a4a2b2-e473-4dc7-b9c3-7f3b9c9921e7",
   "metadata": {},
   "outputs": [
    {
     "data": {
      "text/plain": [
       "<TimedeltaArray>\n",
       "['0 days 06:00:00', '0 days 06:59:59', '0 days 04:00:00', '0 days 00:00:00']\n",
       "Length: 4, dtype: timedelta64[ns]"
      ]
     },
     "execution_count": 42,
     "metadata": {},
     "output_type": "execute_result"
    }
   ],
   "source": [
    "#unique values of delivery time\n",
    "df_dataset[\"delivery_time\"].unique()"
   ]
  },
  {
   "cell_type": "code",
   "execution_count": 43,
   "id": "9b2f7bd7-76ae-4c10-86d8-3fcd3a7968a9",
   "metadata": {},
   "outputs": [
    {
     "name": "stdout",
     "output_type": "stream",
     "text": [
      "Customer Group: ['Individual' 'All Customer Groups']\n",
      "Territory: ['Meru' 'Athi River' 'Nakuru' 'Thika Rd' 'Mtwapa Mombasa' 'Eastlands'\n",
      " 'Kawangware' 'Majengo Mombasa' 'Ruiru' 'Ruai' 'Voi' 'Kiambu' 'Eldoret'\n",
      " 'Embu' 'Juja' 'Ongata Rongai' 'Kisumu1' 'Kisii' 'Karatina']\n",
      "Warehouse: ['Meru Main - KDKE' 'Athi River Main - KDKE' 'Nakuru Main - KDKE'\n",
      " 'Thika Rd Main - KDKE' 'Mtwapa Mombasa Main - KDKE'\n",
      " 'Eastlands Main - KDKE' 'Kawangware Main - KDKE'\n",
      " 'Majengo Mombasa Main - KDKE' 'Ruiru Main - KDKE' 'Ruai Main - KDKE'\n",
      " 'Voi Main - KDKE' 'Kiambu Main - KDKE' 'Eldoret Main - KDKE'\n",
      " 'Embu Main - KDKE' 'Juja Main - KDKE' 'Ongata Rongai Main - KDKE'\n",
      " 'Kisumu 1 Main - KDKE' 'Kisii Main - KDKE' 'Karatina Main - KDKE']\n",
      "churn: [False  True]\n"
     ]
    }
   ],
   "source": [
    "#unique values of nominal data\n",
    "print(\"Customer Group:\", df_dataset [\"customer_group\"].unique())\n",
    "print(\"Territory:\", df_dataset [\"territory\"].unique())\n",
    "print (\"Warehouse:\", df_dataset [\"set_warehouse\"].unique())\n",
    "print(\"churn:\", df_dataset[\"churn\"].unique())"
   ]
  },
  {
   "cell_type": "code",
   "execution_count": 44,
   "id": "c5b8ca84-ca94-48c6-b5a2-bd73f2c1b0fc",
   "metadata": {},
   "outputs": [],
   "source": [
    "#change datatypes to relevant formats\n",
    "#objects to floats where necessary: datetime to float in seconds\n",
    "df_dataset[\"delivery_time\"] = df_dataset[\"delivery_time\"].dt.total_seconds()\n",
    "\n",
    "#object to numericals (data is nominal) using label encoding \n",
    "#instanstiate encoders\n",
    "encoder = LabelEncoder()\n",
    "\n",
    "#fit and transform data \n",
    "df_dataset[\"encoded_Customer_grp\"] = encoder.fit_transform(df_dataset[\"customer_group\"])\n",
    "df_dataset[\"encoded_territory\"] = encoder.fit_transform(df_dataset[\"territory\"])\n",
    "df_dataset[\"set_warehouse_encoded\"] = encoder.fit_transform(df_dataset[\"set_warehouse\"])\n",
    "df_dataset[\"churn\"] = encoder.fit_transform(df_dataset[\"churn\"])\n",
    "\n",
    "\n",
    "#drop original columns \n",
    "cols = [\"territory\",\"customer_group\",\"set_warehouse\",\"transaction_date\"]\n",
    "df_dataset.drop(columns = cols, inplace = True)"
   ]
  },
  {
   "cell_type": "code",
   "execution_count": 45,
   "id": "8dddb747-0451-423f-8762-34bd6aa66661",
   "metadata": {},
   "outputs": [
    {
     "name": "stdout",
     "output_type": "stream",
     "text": [
      "Correlation Results:  \n",
      " {'total_qty': -0.003980410699105937, 'net_total': 0.002568740674386503, 'loyalty_amount': nan, 'loyalty_points': nan, 'discount_amount': -0.022181786952591487, 'duka_latitude': 0.019338849956936025, 'duka_longitude': -0.011378883204176845, 'delivery_time': 0.02025323564698212, 'encoded_Customer_grp': 0.008071535326418772, 'encoded_territory': -0.013139647382689405, 'set_warehouse_encoded': -0.013139647382689405} \n",
      "\n",
      " total_qty               -0.003980\n",
      "net_total                0.002569\n",
      "loyalty_amount                NaN\n",
      "loyalty_points                NaN\n",
      "discount_amount         -0.022182\n",
      "duka_latitude            0.019339\n",
      "duka_longitude          -0.011379\n",
      "delivery_time            0.020253\n",
      "encoded_Customer_grp     0.008072\n",
      "encoded_territory       -0.013140\n",
      "set_warehouse_encoded   -0.013140\n",
      "dtype: float64\n"
     ]
    }
   ],
   "source": [
    "#Correlation between predictor and variable  target \n",
    "independent_vars = df_dataset.drop(columns = [\"churn\"])\n",
    "dependent_var =  df_dataset[\"churn\"]\n",
    "\n",
    "corr = independent_vars.apply(lambda x:x.corr(dependent_var))\n",
    "\n",
    "#add results to dictionary\n",
    "correlation_results = corr.to_dict()\n",
    "print(\"Correlation Results: \", \"\\n\",correlation_results, \"\\n\\n\", corr)"
   ]
  },
  {
   "cell_type": "markdown",
   "id": "a1b1627b-9c9e-417b-be8a-603791f55160",
   "metadata": {},
   "source": [
    "The variables shows weak correlations with loyalty amounts and points being insignificant in suggesting the relationship between the target and predictor variable"
   ]
  },
  {
   "cell_type": "markdown",
   "id": "5cd10825-c3de-4fc1-9fca-e9aaa065d6a9",
   "metadata": {},
   "source": [
    "### Visual Representations "
   ]
  },
  {
   "cell_type": "code",
   "execution_count": 46,
   "id": "acb90547-79f7-43bb-8541-ff3d2d43dbf0",
   "metadata": {},
   "outputs": [
    {
     "data": {
      "image/png": "[encoded data removed]",
      "text/plain": [
       "<Figure size 1000x800 with 2 Axes>"
      ]
     },
     "metadata": {},
     "output_type": "display_data"
    },
    {
     "name": "stdout",
     "output_type": "stream",
     "text": [
      "The variables shows weak correlations with loyalty amounts and points being insignificant \n",
      "in suggesting the relationship between the target and predictor variable\n"
     ]
    }
   ],
   "source": [
    "#Isolate dependent and independent variables\n",
    "input_var = ['total_qty', 'net_total', 'discount_amount', 'duka_latitude', \n",
    "             'duka_longitude', 'delivery_time','encoded_territory','set_warehouse_encoded','encoded_Customer_grp']\n",
    "output_var = 'churn'\n",
    "\n",
    "#plot heatmap\n",
    "plt.figure(figsize = (10,8))\n",
    "correlation = df_dataset[input_var + [output_var]].corr()\n",
    "sns.heatmap(correlation, annot = True, cmap = \"seismic\", center = 0.0, fmt = \".4f\", linewidths = 1.0)\n",
    "plt.title(\"HEATMAP CORRELATION\")\n",
    "plt.show()\n",
    "\n",
    "#Explanation \n",
    "print('''The variables shows weak correlations with loyalty amounts and points being insignificant \n",
    "in suggesting the relationship between the target and predictor variable''')"
   ]
  },
  {
   "cell_type": "code",
   "execution_count": 47,
   "id": "a99aa3d9-ced2-4ae1-8ace-be2d607b2caf",
   "metadata": {},
   "outputs": [
    {
     "data": {
      "image/png": "[encoded data removed]",
      "text/plain": [
       "<Figure size 1000x800 with 1 Axes>"
      ]
     },
     "metadata": {},
     "output_type": "display_data"
    },
    {
     "name": "stdout",
     "output_type": "stream",
     "text": [
      "Factors highly likely to cause customer churn include:\n",
      "discount_amount, delivery_time, duka_latitude, duka_longitude, customer_group \n"
     ]
    }
   ],
   "source": [
    "#Bar Plot Visualization\n",
    "correlation_df = pd.DataFrame([correlation_results])\n",
    "\n",
    "#plot graph\n",
    "plt.figure(figsize = (10,8))\n",
    "sns.barplot(data = correlation_df)\n",
    "plt.title(\"CORRELATION BETWEEN OUTPUT AND INPUT VARIABLES\")\n",
    "plt.xlabel(\"Input Factors\")\n",
    "plt.ylabel(\"churn(Output)\")\n",
    "plt.xticks(rotation =90)\n",
    "plt.show()\n",
    "\n",
    "#Explanation \n",
    "print('''Factors highly likely to cause customer churn include:\n",
    "discount_amount, delivery_time, duka_latitude, duka_longitude, customer_group ''')"
   ]
  },
  {
   "cell_type": "markdown",
   "id": "4fdfa98a-317e-4ebd-bdaa-5ce72c310601",
   "metadata": {},
   "source": [
    "### Recommendations \n",
    "1. Increase discount amounts to attract customers   \n",
    "3. Reduce amounts or provide reduced transportation costs for customers at unfavorable latitude or longitudes\n",
    "4. Introduce loyalty points that could be redeemed to loyalty amounts and used to purchase orders   \n",
    "\n"
   ]
  },
  {
   "cell_type": "code",
   "execution_count": null,
   "id": "b504d94e-d58f-4253-b018-594f775e73c6",
   "metadata": {},
   "outputs": [],
   "source": []
  },
  {
   "cell_type": "code",
   "execution_count": null,
   "id": "1e8272cd-4e5d-457c-8ea0-a159b1d20900",
   "metadata": {},
   "outputs": [],
   "source": []
  },
  {
   "cell_type": "markdown",
   "id": "4d71a5dc-43d0-45c0-adc3-f49fd041d6cc",
   "metadata": {},
   "source": [
    "### BiVariate Analysis: Using Important Factors"
   ]
  },
  {
   "cell_type": "code",
   "execution_count": 48,
   "id": "0548f759-ebd7-487e-8601-1a49df9eced9",
   "metadata": {},
   "outputs": [
    {
     "data": {
      "text/plain": [
       "Index(['total_qty', 'net_total', 'loyalty_amount', 'loyalty_points',\n",
       "       'discount_amount', 'duka_latitude', 'duka_longitude', 'churn',\n",
       "       'delivery_time', 'encoded_Customer_grp', 'encoded_territory',\n",
       "       'set_warehouse_encoded'],\n",
       "      dtype='object')"
      ]
     },
     "execution_count": 48,
     "metadata": {},
     "output_type": "execute_result"
    }
   ],
   "source": [
    "df_dataset.columns"
   ]
  },
  {
   "cell_type": "code",
   "execution_count": 49,
   "id": "597f59de-eaa0-4c2a-9560-ab4debf7ec09",
   "metadata": {},
   "outputs": [
    {
     "data": {
      "text/plain": [
       "Index(['customer_number', 'discount_amount', 'customer_group', 'delivery_date',\n",
       "       'duka_latitude', 'duka_longitude', 'churn'],\n",
       "      dtype='object')"
      ]
     },
     "execution_count": 49,
     "metadata": {},
     "output_type": "execute_result"
    }
   ],
   "source": [
    "#add churn column to copy of dataset\n",
    "df_dataset_copy[\"churn\"] = df_dataset[\"churn\"]\n",
    "\n",
    "#drop columns \n",
    "#select columns\n",
    "cols = ['order_id', 'transaction_date', 'description', 'total_qty', 'net_total', 'loyalty_amount', \n",
    "        'loyalty_points', 'territory', 'delivery_window_end_time', 'delivery_window_start_time','set_warehouse']\n",
    "\n",
    "#drop selected columns \n",
    "df_dataset_copy.drop(columns = cols, inplace = True)\n",
    "\n",
    "#preview columns \n",
    "df_dataset_copy.columns"
   ]
  },
  {
   "cell_type": "code",
   "execution_count": 50,
   "id": "9cb80bac-c037-4dd1-b939-fbfd049ada9d",
   "metadata": {},
   "outputs": [],
   "source": [
    "#check for missing values and drop if any\n",
    "df_dataset_copy.isna().sum()\n",
    "df_dataset_copy.dropna(inplace = True)"
   ]
  },
  {
   "cell_type": "markdown",
   "id": "8faf78cd-acbc-4c0d-bc62-5a4a485e3dd1",
   "metadata": {},
   "source": [
    "## Question 2: Churn Prediction\n"
   ]
  },
  {
   "cell_type": "markdown",
   "id": "df7e7c73-c2c9-4a83-85d9-76a9d0f73769",
   "metadata": {},
   "source": [
    "### BaseModel: LogisticRegression(Prediction based on the five important factors)\n"
   ]
  },
  {
   "cell_type": "code",
   "execution_count": 51,
   "id": "e87ac897-e175-4866-9c62-95443ff16f6e",
   "metadata": {},
   "outputs": [
    {
     "name": "stdout",
     "output_type": "stream",
     "text": [
      "<class 'pandas.core.frame.DataFrame'>\n",
      "Index: 43708 entries, 0 to 43717\n",
      "Data columns (total 7 columns):\n",
      " #   Column           Non-Null Count  Dtype  \n",
      "---  ------           --------------  -----  \n",
      " 0   customer_number  43708 non-null  object \n",
      " 1   discount_amount  43708 non-null  float64\n",
      " 2   customer_group   43708 non-null  object \n",
      " 3   delivery_date    43708 non-null  object \n",
      " 4   duka_latitude    43708 non-null  float64\n",
      " 5   duka_longitude   43708 non-null  float64\n",
      " 6   churn            43708 non-null  float64\n",
      "dtypes: float64(4), object(3)\n",
      "memory usage: 2.7+ MB\n"
     ]
    }
   ],
   "source": [
    "df_dataset_copy.info()"
   ]
  },
  {
   "cell_type": "code",
   "execution_count": 52,
   "id": "1a782363-e693-486b-8cfd-51803247d2fd",
   "metadata": {},
   "outputs": [
    {
     "data": {
      "text/html": [
       "<div>\n",
       "<style scoped>\n",
       "    .dataframe tbody tr th:only-of-type {\n",
       "        vertical-align: middle;\n",
       "    }\n",
       "\n",
       "    .dataframe tbody tr th {\n",
       "        vertical-align: top;\n",
       "    }\n",
       "\n",
       "    .dataframe thead th {\n",
       "        text-align: right;\n",
       "    }\n",
       "</style>\n",
       "<table border=\"1\" class=\"dataframe\">\n",
       "  <thead>\n",
       "    <tr style=\"text-align: right;\">\n",
       "      <th></th>\n",
       "      <th>discount_amount</th>\n",
       "      <th>duka_latitude</th>\n",
       "      <th>duka_longitude</th>\n",
       "      <th>churn</th>\n",
       "      <th>delivery_time</th>\n",
       "      <th>encoded_Customer_grp</th>\n",
       "    </tr>\n",
       "  </thead>\n",
       "  <tbody>\n",
       "    <tr>\n",
       "      <th>0</th>\n",
       "      <td>66.38</td>\n",
       "      <td>0.036784</td>\n",
       "      <td>37.654155</td>\n",
       "      <td>0</td>\n",
       "      <td>21600.0</td>\n",
       "      <td>1</td>\n",
       "    </tr>\n",
       "    <tr>\n",
       "      <th>1</th>\n",
       "      <td>66.38</td>\n",
       "      <td>0.036784</td>\n",
       "      <td>37.654155</td>\n",
       "      <td>0</td>\n",
       "      <td>21600.0</td>\n",
       "      <td>1</td>\n",
       "    </tr>\n",
       "    <tr>\n",
       "      <th>2</th>\n",
       "      <td>66.38</td>\n",
       "      <td>0.036784</td>\n",
       "      <td>37.654155</td>\n",
       "      <td>0</td>\n",
       "      <td>21600.0</td>\n",
       "      <td>1</td>\n",
       "    </tr>\n",
       "  </tbody>\n",
       "</table>\n",
       "</div>"
      ],
      "text/plain": [
       "   discount_amount  duka_latitude  duka_longitude  churn  delivery_time  \\\n",
       "0            66.38       0.036784       37.654155      0        21600.0   \n",
       "1            66.38       0.036784       37.654155      0        21600.0   \n",
       "2            66.38       0.036784       37.654155      0        21600.0   \n",
       "\n",
       "   encoded_Customer_grp  \n",
       "0                     1  \n",
       "1                     1  \n",
       "2                     1  "
      ]
     },
     "execution_count": 52,
     "metadata": {},
     "output_type": "execute_result"
    }
   ],
   "source": [
    "#feature Engineering: drop insignificant factors \n",
    "\n",
    "cols = ['total_qty', 'net_total', 'loyalty_amount', 'loyalty_points', 'encoded_territory', 'set_warehouse_encoded']\n",
    "\n",
    "df_dataset.drop(columns = cols, inplace = True)\n",
    "\n",
    "#Preview dataset\n",
    "df_dataset.head(3)"
   ]
  },
  {
   "cell_type": "code",
   "execution_count": 53,
   "id": "ac2fb305-147e-467e-8024-5c430d3d5646",
   "metadata": {},
   "outputs": [
    {
     "name": "stdout",
     "output_type": "stream",
     "text": [
      "[[12830     0]\n",
      " [  283     0]]\n",
      "              precision    recall  f1-score   support\n",
      "\n",
      "           0       0.98      1.00      0.99     12830\n",
      "           1       0.00      0.00      0.00       283\n",
      "\n",
      "    accuracy                           0.98     13113\n",
      "   macro avg       0.49      0.50      0.49     13113\n",
      "weighted avg       0.96      0.98      0.97     13113\n",
      "\n"
     ]
    }
   ],
   "source": [
    "#separate data into predictor(X) and target(y)\n",
    "col = [\"churn\"]\n",
    "X = df_dataset.drop(columns= col)\n",
    "y = df_dataset[\"churn\"]\n",
    "\n",
    "#train and test splits\n",
    "X_train, X_test, y_train, y_test = train_test_split(X,y, random_state = 42, test_size = 0.30)\n",
    "\n",
    "#instantiate and fit model\n",
    "lr = LogisticRegressionCV()\n",
    "lr.fit(X_train,y_train)\n",
    "\n",
    "#model evaluation\n",
    "y_prediction = lr.predict(X_test)\n",
    "print(confusion_matrix(y_test, y_prediction))\n",
    "print(classification_report(y_test, y_prediction))"
   ]
  },
  {
   "cell_type": "markdown",
   "id": "283eafbf-4562-4d5a-b882-38c487c15d18",
   "metadata": {},
   "source": [
    "### MODEL IMPROVEMENT USING SMOTE"
   ]
  },
  {
   "cell_type": "code",
   "execution_count": 54,
   "id": "5aa8de4f-ec88-4133-a19a-a2aae01f5f45",
   "metadata": {},
   "outputs": [
    {
     "name": "stdout",
     "output_type": "stream",
     "text": [
      "Confusion Matric Results: \n",
      " [[3993 8837]\n",
      " [  61  222]] \n",
      "\n",
      "Classification Matrix Results:  \n",
      "               precision    recall  f1-score   support\n",
      "\n",
      "           0       0.98      0.31      0.47     12830\n",
      "           1       0.02      0.78      0.05       283\n",
      "\n",
      "    accuracy                           0.32     13113\n",
      "   macro avg       0.50      0.55      0.26     13113\n",
      "weighted avg       0.96      0.32      0.46     13113\n",
      "\n"
     ]
    }
   ],
   "source": [
    "\n",
    "#Manage class imbalance \n",
    "smote = SMOTE(sampling_strategy = 'auto')\n",
    "resampled_X, resampled_y = smote.fit_resample(X_train, y_train)\n",
    "\n",
    "#fit and train model\n",
    "lr = LogisticRegressionCV(class_weight = \"balanced\")\n",
    "lr.fit(resampled_X, resampled_y)\n",
    "\n",
    "#generate predictions adjusting the threshold\n",
    "y_probability = lr.predict_proba(X_test)[:, 1]\n",
    "y_prediction = (y_probability > 0.3).astype(int)\n",
    "\n",
    "#model evaluation\n",
    "y_prediction = lr.predict(X_test)\n",
    "print(\"Confusion Matric Results:\", \"\\n\", confusion_matrix(y_test, y_prediction),\"\\n\")\n",
    "print(\"Classification Matrix Results: \", \"\\n\", classification_report(y_test, y_prediction))"
   ]
  },
  {
   "cell_type": "markdown",
   "id": "e34ac7f4-a346-427e-9f8a-27c95b4bc220",
   "metadata": {},
   "source": [
    "## Improving Model USing GradientBoosting "
   ]
  },
  {
   "cell_type": "code",
   "execution_count": 55,
   "id": "c32b56a8-4481-41a8-8fc7-96c2a5bb97f6",
   "metadata": {},
   "outputs": [
    {
     "name": "stdout",
     "output_type": "stream",
     "text": [
      "Confusion Matric Results: \n",
      " [[10715  2115]\n",
      " [  120   163]] \n",
      "\n",
      "Classification Matrix Results:  \n",
      "               precision    recall  f1-score   support\n",
      "\n",
      "           0       0.99      0.84      0.91     12830\n",
      "           1       0.07      0.58      0.13       283\n",
      "\n",
      "    accuracy                           0.83     13113\n",
      "   macro avg       0.53      0.71      0.52     13113\n",
      "weighted avg       0.97      0.83      0.89     13113\n",
      "\n"
     ]
    }
   ],
   "source": [
    "#Manage class imbalance \n",
    "smote = SMOTE(sampling_strategy = 'auto')\n",
    "resampled_X, resampled_y = smote.fit_resample(X_train, y_train)\n",
    "\n",
    "#fit and train model\n",
    "gb = GradientBoostingClassifier()\n",
    "gb.fit(resampled_X, resampled_y)\n",
    "\n",
    "#generate predictions adjusting the threshold\n",
    "y_probability = gb.predict_proba(X_test)[:, 1]\n",
    "y_prediction = (y_probability > 0.3).astype(int)\n",
    "\n",
    "#model evaluation\n",
    "y_prediction = gb.predict(X_test)\n",
    "print(\"Confusion Matric Results:\", \"\\n\", confusion_matrix(y_test, y_prediction),\"\\n\")\n",
    "print(\"Classification Matrix Results: \", \"\\n\", classification_report(y_test, y_prediction))"
   ]
  },
  {
   "cell_type": "markdown",
   "id": "cb42cbb0-25fa-41de-a219-d498ac6e1eac",
   "metadata": {},
   "source": [
    "Results show an improvement of the model. It has an accuracy Score of 82%"
   ]
  },
  {
   "cell_type": "code",
   "execution_count": 59,
   "id": "38418b5c-48e8-458e-8a8d-924980d1cdd1",
   "metadata": {},
   "outputs": [],
   "source": [
    "#Add customer ID and save data\n",
    "df_dataset[\"customer_id\"] = df_dataset_copy[\"customer_number\"]\n",
    "df_dataset = df_dataset[[\"customer_id\", \"churn\"]]\n",
    "\n",
    "#save data\n",
    "df_dataset.to_excel(\"Customer_churn_predictions.xlsx\")"
   ]
  },
  {
   "cell_type": "code",
   "execution_count": null,
   "id": "f4f382ba-b527-429b-9f64-9c1f0313e013",
   "metadata": {},
   "outputs": [],
   "source": []
  }
 ],
 "metadata": {
  "kernelspec": {
   "display_name": "Python (learn-env)",
   "language": "python",
   "name": "learn-env"
  },
  "language_info": {
   "codemirror_mode": {
    "name": "ipython",
    "version": 3
   },
   "file_extension": ".py",
   "mimetype": "text/x-python",
   "name": "python",
   "nbconvert_exporter": "python",
   "pygments_lexer": "ipython3",
   "version": "3.8.5"
  }
 },
 "nbformat": 4,
 "nbformat_minor": 5
}
